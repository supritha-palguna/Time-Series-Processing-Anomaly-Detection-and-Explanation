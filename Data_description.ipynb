{
 "cells": [
  {
   "cell_type": "code",
   "execution_count": 1,
   "id": "9a00272e",
   "metadata": {
    "pycharm": {
     "is_executing": true
    }
   },
   "outputs": [],
   "source": [
    "#Loading the required Packages\n",
    "import pandas as pd\n"
   ]
  },
  {
   "cell_type": "code",
   "execution_count": 2,
   "id": "16d1bd59",
   "metadata": {
    "pycharm": {
     "is_executing": false
    }
   },
   "outputs": [
    {
     "name": "stdout",
     "output_type": "stream",
     "text": [
      "WARNING *** OLE2 inconsistency: SSCS size is 0 but SSAT size is non-zero\n",
      "WARNING *** OLE2 inconsistency: SSCS size is 0 but SSAT size is non-zero\n",
      "WARNING *** OLE2 inconsistency: SSCS size is 0 but SSAT size is non-zero\n",
      "WARNING *** OLE2 inconsistency: SSCS size is 0 but SSAT size is non-zero\n",
      "WARNING *** OLE2 inconsistency: SSCS size is 0 but SSAT size is non-zero\n"
     ]
    }
   ],
   "source": [
    " #reading the .xls file into dataframes\n",
    "    \n",
    "df_Chemie_1 = pd.read_excel('Chemie.xls', header = 4)\n",
    "df_Chemie_2 = pd.read_excel('Chemie_01_26-07_19.xls', header = 4)\n",
    "\n",
    "df_Großtagespflege_1 = pd.read_excel('Großtagespflege.xls', header = 4)\n",
    "df_Großtagespflege_2 = pd.read_excel('Grosstagespflege_04_05-07_19.xls', header = 4)\n",
    "\n",
    "df_HGII_1 = pd.read_excel('HG II.xls', header = 4)\n",
    "df_HGII_2 = pd.read_excel('HGII_01_26-07_19.xls', header = 4)\n",
    "\n",
    "df_KitaHokido_1 = pd.read_excel('Kita Hokido.xls', header = 4)\n",
    "df_KitaHokido_2 = pd.read_excel('Kita Hokido_05_22_20-07_19_22.xls', header = 4)\n",
    "\n",
    "df_OH12_1 = pd.read_excel('OH12.xls', header = 4)\n",
    "df_OH12_2 = pd.read_excel('OH12_01_26-07_19.xls', header = 4)\n",
    "\n",
    "df_OH14_1 = pd.read_excel('OH14.xls', header = 4)\n",
    "df_OH14_2 = pd.read_excel('OH14_01_26-07_19.xls', header = 4)\n",
    "\n",
    "list_df = [df_Chemie_1, df_Chemie_2, df_Großtagespflege_1, df_Großtagespflege_2, df_HGII_1, df_HGII_2, \n",
    "      df_KitaHokido_1, df_KitaHokido_2, df_OH12_1, df_OH12_2, df_OH14_1, df_OH14_2]\n",
    "\n"
   ]
  },
  {
   "cell_type": "code",
   "execution_count": 5,
   "id": "9c1b1493",
   "metadata": {},
   "outputs": [
    {
     "data": {
      "text/plain": [
       "(65531, 22)"
      ]
     },
     "execution_count": 5,
     "metadata": {},
     "output_type": "execute_result"
    }
   ],
   "source": [
    "df_Chemie_1.shape"
   ]
  },
  {
   "cell_type": "code",
   "execution_count": 6,
   "id": "dae6b1af",
   "metadata": {},
   "outputs": [
    {
     "data": {
      "text/plain": [
       "(16706, 14)"
      ]
     },
     "execution_count": 6,
     "metadata": {},
     "output_type": "execute_result"
    }
   ],
   "source": [
    "df_Chemie_2.shape"
   ]
  },
  {
   "cell_type": "code",
   "execution_count": 7,
   "id": "75658082",
   "metadata": {},
   "outputs": [
    {
     "data": {
      "text/plain": [
       "(15626, 46)"
      ]
     },
     "execution_count": 7,
     "metadata": {},
     "output_type": "execute_result"
    }
   ],
   "source": [
    "df_Großtagespflege_1.shape"
   ]
  },
  {
   "cell_type": "code",
   "execution_count": 8,
   "id": "841075d6",
   "metadata": {},
   "outputs": [
    {
     "data": {
      "text/plain": [
       "(10092, 25)"
      ]
     },
     "execution_count": 8,
     "metadata": {},
     "output_type": "execute_result"
    }
   ],
   "source": [
    "df_Großtagespflege_2.shape"
   ]
  },
  {
   "cell_type": "code",
   "execution_count": 9,
   "id": "00cbdf59",
   "metadata": {},
   "outputs": [
    {
     "data": {
      "text/plain": [
       "(12072, 23)"
      ]
     },
     "execution_count": 9,
     "metadata": {},
     "output_type": "execute_result"
    }
   ],
   "source": [
    "df_HGII_1.shape"
   ]
  },
  {
   "cell_type": "code",
   "execution_count": 10,
   "id": "c3b1a83d",
   "metadata": {},
   "outputs": [
    {
     "data": {
      "text/plain": [
       "(16712, 21)"
      ]
     },
     "execution_count": 10,
     "metadata": {},
     "output_type": "execute_result"
    }
   ],
   "source": [
    "df_HGII_2.shape"
   ]
  },
  {
   "cell_type": "code",
   "execution_count": 11,
   "id": "7b5a163f",
   "metadata": {},
   "outputs": [
    {
     "data": {
      "text/plain": [
       "(65531, 8)"
      ]
     },
     "execution_count": 11,
     "metadata": {},
     "output_type": "execute_result"
    }
   ],
   "source": [
    "df_KitaHokido_1.shape"
   ]
  },
  {
   "cell_type": "code",
   "execution_count": 12,
   "id": "d89b7eaa",
   "metadata": {},
   "outputs": [
    {
     "data": {
      "text/plain": [
       "(65531, 8)"
      ]
     },
     "execution_count": 12,
     "metadata": {},
     "output_type": "execute_result"
    }
   ],
   "source": [
    "df_KitaHokido_2.shape"
   ]
  },
  {
   "cell_type": "code",
   "execution_count": 13,
   "id": "dcf2b1d2",
   "metadata": {},
   "outputs": [
    {
     "data": {
      "text/plain": [
       "(43652, 27)"
      ]
     },
     "execution_count": 13,
     "metadata": {},
     "output_type": "execute_result"
    }
   ],
   "source": [
    "df_OH12_1.shape"
   ]
  },
  {
   "cell_type": "code",
   "execution_count": 14,
   "id": "e7ed09fe",
   "metadata": {},
   "outputs": [
    {
     "data": {
      "text/plain": [
       "(11498, 20)"
      ]
     },
     "execution_count": 14,
     "metadata": {},
     "output_type": "execute_result"
    }
   ],
   "source": [
    "df_OH12_2.shape"
   ]
  },
  {
   "cell_type": "code",
   "execution_count": 15,
   "id": "ce2bff56",
   "metadata": {},
   "outputs": [
    {
     "data": {
      "text/plain": [
       "(19564, 18)"
      ]
     },
     "execution_count": 15,
     "metadata": {},
     "output_type": "execute_result"
    }
   ],
   "source": [
    "df_OH14_1.shape"
   ]
  },
  {
   "cell_type": "code",
   "execution_count": 16,
   "id": "1c859c88",
   "metadata": {},
   "outputs": [
    {
     "data": {
      "text/plain": [
       "(16712, 17)"
      ]
     },
     "execution_count": 16,
     "metadata": {},
     "output_type": "execute_result"
    }
   ],
   "source": [
    "df_OH14_2.shape"
   ]
  },
  {
   "cell_type": "code",
   "execution_count": 17,
   "id": "12fdca8a",
   "metadata": {},
   "outputs": [
    {
     "data": {
      "text/html": [
       "<div>\n",
       "<style scoped>\n",
       "    .dataframe tbody tr th:only-of-type {\n",
       "        vertical-align: middle;\n",
       "    }\n",
       "\n",
       "    .dataframe tbody tr th {\n",
       "        vertical-align: top;\n",
       "    }\n",
       "\n",
       "    .dataframe thead th {\n",
       "        text-align: right;\n",
       "    }\n",
       "</style>\n",
       "<table border=\"1\" class=\"dataframe\">\n",
       "  <thead>\n",
       "    <tr style=\"text-align: right;\">\n",
       "      <th></th>\n",
       "      <th>OBIS Bezeichnung</th>\n",
       "      <th>Wärmeenergie Tarif 1</th>\n",
       "      <th>Durchfluss</th>\n",
       "      <th>Vorlauftemperatur</th>\n",
       "      <th>Rücklauftemperatur</th>\n",
       "      <th>Wärmeleistung</th>\n",
       "      <th>Volumen Kanal 1</th>\n",
       "      <th>WV+ Arbeit Tarif 1</th>\n",
       "    </tr>\n",
       "  </thead>\n",
       "  <tbody>\n",
       "    <tr>\n",
       "      <th>0</th>\n",
       "      <td>OBIS Einheit</td>\n",
       "      <td>kWh</td>\n",
       "      <td>m³/h</td>\n",
       "      <td>°C</td>\n",
       "      <td>°C</td>\n",
       "      <td>kW</td>\n",
       "      <td>m³</td>\n",
       "      <td>kWh</td>\n",
       "    </tr>\n",
       "    <tr>\n",
       "      <th>1</th>\n",
       "      <td>2022-01-26 05:30:00</td>\n",
       "      <td>NaN</td>\n",
       "      <td>NaN</td>\n",
       "      <td>NaN</td>\n",
       "      <td>NaN</td>\n",
       "      <td>NaN</td>\n",
       "      <td>NaN</td>\n",
       "      <td>113602.99</td>\n",
       "    </tr>\n",
       "    <tr>\n",
       "      <th>2</th>\n",
       "      <td>2022-01-26 05:15:00</td>\n",
       "      <td>NaN</td>\n",
       "      <td>NaN</td>\n",
       "      <td>NaN</td>\n",
       "      <td>NaN</td>\n",
       "      <td>NaN</td>\n",
       "      <td>NaN</td>\n",
       "      <td>113602.84</td>\n",
       "    </tr>\n",
       "    <tr>\n",
       "      <th>3</th>\n",
       "      <td>2022-01-26 05:00:00</td>\n",
       "      <td>471184</td>\n",
       "      <td>0.163</td>\n",
       "      <td>64.8</td>\n",
       "      <td>59.3</td>\n",
       "      <td>1.012</td>\n",
       "      <td>5076.468</td>\n",
       "      <td>113602.67</td>\n",
       "    </tr>\n",
       "    <tr>\n",
       "      <th>4</th>\n",
       "      <td>2022-01-26 04:45:00</td>\n",
       "      <td>NaN</td>\n",
       "      <td>NaN</td>\n",
       "      <td>NaN</td>\n",
       "      <td>NaN</td>\n",
       "      <td>NaN</td>\n",
       "      <td>NaN</td>\n",
       "      <td>113602.52</td>\n",
       "    </tr>\n",
       "  </tbody>\n",
       "</table>\n",
       "</div>"
      ],
      "text/plain": [
       "      OBIS Bezeichnung Wärmeenergie Tarif 1 Durchfluss Vorlauftemperatur  \\\n",
       "0         OBIS Einheit                  kWh       m³/h                °C   \n",
       "1  2022-01-26 05:30:00                  NaN        NaN               NaN   \n",
       "2  2022-01-26 05:15:00                  NaN        NaN               NaN   \n",
       "3  2022-01-26 05:00:00               471184      0.163              64.8   \n",
       "4  2022-01-26 04:45:00                  NaN        NaN               NaN   \n",
       "\n",
       "  Rücklauftemperatur Wärmeleistung Volumen Kanal 1 WV+ Arbeit Tarif 1  \n",
       "0                 °C            kW              m³                kWh  \n",
       "1                NaN           NaN             NaN          113602.99  \n",
       "2                NaN           NaN             NaN          113602.84  \n",
       "3               59.3         1.012        5076.468          113602.67  \n",
       "4                NaN           NaN             NaN          113602.52  "
      ]
     },
     "execution_count": 17,
     "metadata": {},
     "output_type": "execute_result"
    }
   ],
   "source": [
    "df_KitaHokido_1.head()"
   ]
  },
  {
   "cell_type": "code",
   "execution_count": 19,
   "id": "f8ff2055",
   "metadata": {},
   "outputs": [
    {
     "data": {
      "text/html": [
       "<div>\n",
       "<style scoped>\n",
       "    .dataframe tbody tr th:only-of-type {\n",
       "        vertical-align: middle;\n",
       "    }\n",
       "\n",
       "    .dataframe tbody tr th {\n",
       "        vertical-align: top;\n",
       "    }\n",
       "\n",
       "    .dataframe thead th {\n",
       "        text-align: right;\n",
       "    }\n",
       "</style>\n",
       "<table border=\"1\" class=\"dataframe\">\n",
       "  <thead>\n",
       "    <tr style=\"text-align: right;\">\n",
       "      <th></th>\n",
       "      <th>Time</th>\n",
       "      <th>Wärmeenergie Tarif 1</th>\n",
       "      <th>Durchfluss</th>\n",
       "      <th>Vorlauftemperatur</th>\n",
       "      <th>Rücklauftemperatur</th>\n",
       "      <th>Wärmeleistung</th>\n",
       "      <th>Volumen Kanal 1</th>\n",
       "      <th>WV+ Arbeit Tarif 1</th>\n",
       "    </tr>\n",
       "  </thead>\n",
       "  <tbody>\n",
       "    <tr>\n",
       "      <th>0</th>\n",
       "      <td>2022-01-26 05:15:00</td>\n",
       "      <td>NaN</td>\n",
       "      <td>NaN</td>\n",
       "      <td>NaN</td>\n",
       "      <td>NaN</td>\n",
       "      <td>NaN</td>\n",
       "      <td>NaN</td>\n",
       "      <td>113602.84</td>\n",
       "    </tr>\n",
       "    <tr>\n",
       "      <th>1</th>\n",
       "      <td>2022-01-26 05:00:00</td>\n",
       "      <td>471184</td>\n",
       "      <td>0.163</td>\n",
       "      <td>64.8</td>\n",
       "      <td>59.3</td>\n",
       "      <td>1.012</td>\n",
       "      <td>5076.468</td>\n",
       "      <td>113602.67</td>\n",
       "    </tr>\n",
       "    <tr>\n",
       "      <th>2</th>\n",
       "      <td>2022-01-26 04:45:00</td>\n",
       "      <td>NaN</td>\n",
       "      <td>NaN</td>\n",
       "      <td>NaN</td>\n",
       "      <td>NaN</td>\n",
       "      <td>NaN</td>\n",
       "      <td>NaN</td>\n",
       "      <td>113602.52</td>\n",
       "    </tr>\n",
       "    <tr>\n",
       "      <th>3</th>\n",
       "      <td>2022-01-26 04:30:00</td>\n",
       "      <td>NaN</td>\n",
       "      <td>NaN</td>\n",
       "      <td>NaN</td>\n",
       "      <td>NaN</td>\n",
       "      <td>NaN</td>\n",
       "      <td>NaN</td>\n",
       "      <td>113602.39</td>\n",
       "    </tr>\n",
       "    <tr>\n",
       "      <th>4</th>\n",
       "      <td>2022-01-26 04:15:00</td>\n",
       "      <td>NaN</td>\n",
       "      <td>NaN</td>\n",
       "      <td>NaN</td>\n",
       "      <td>NaN</td>\n",
       "      <td>NaN</td>\n",
       "      <td>NaN</td>\n",
       "      <td>113602.26</td>\n",
       "    </tr>\n",
       "  </tbody>\n",
       "</table>\n",
       "</div>"
      ],
      "text/plain": [
       "                  Time Wärmeenergie Tarif 1 Durchfluss Vorlauftemperatur  \\\n",
       "0  2022-01-26 05:15:00                  NaN        NaN               NaN   \n",
       "1  2022-01-26 05:00:00               471184      0.163              64.8   \n",
       "2  2022-01-26 04:45:00                  NaN        NaN               NaN   \n",
       "3  2022-01-26 04:30:00                  NaN        NaN               NaN   \n",
       "4  2022-01-26 04:15:00                  NaN        NaN               NaN   \n",
       "\n",
       "  Rücklauftemperatur Wärmeleistung Volumen Kanal 1 WV+ Arbeit Tarif 1  \n",
       "0                NaN           NaN             NaN          113602.84  \n",
       "1               59.3         1.012        5076.468          113602.67  \n",
       "2                NaN           NaN             NaN          113602.52  \n",
       "3                NaN           NaN             NaN          113602.39  \n",
       "4                NaN           NaN             NaN          113602.26  "
      ]
     },
     "execution_count": 19,
     "metadata": {},
     "output_type": "execute_result"
    }
   ],
   "source": [
    "df_KitaHokido_1 = df_KitaHokido_1.drop(0, axis = 0) #dropping the first row\n",
    "df_KitaHokido_1 = df_KitaHokido_1.reset_index(drop = True) #resetting the index\n",
    "df_KitaHokido_1 = df_KitaHokido_1.rename({'OBIS Bezeichnung' : 'Time'}, axis = 1) #renaming the column 'OBIS Bezeichnung' as 'time'\n",
    "df_KitaHokido_1.head()"
   ]
  },
  {
   "cell_type": "code",
   "execution_count": 20,
   "id": "a0e51dfe",
   "metadata": {},
   "outputs": [
    {
     "data": {
      "text/plain": [
       "Index(['Time', 'Wärmeenergie Tarif 1', 'Durchfluss', 'Vorlauftemperatur',\n",
       "       'Rücklauftemperatur', 'Wärmeleistung', 'Volumen Kanal 1',\n",
       "       'WV+ Arbeit Tarif 1'],\n",
       "      dtype='object')"
      ]
     },
     "execution_count": 20,
     "metadata": {},
     "output_type": "execute_result"
    }
   ],
   "source": [
    "df_KitaHokido_1.columns #checking the features present in the dataset"
   ]
  },
  {
   "cell_type": "code",
   "execution_count": 21,
   "id": "51701a36",
   "metadata": {},
   "outputs": [
    {
     "data": {
      "text/html": [
       "<div>\n",
       "<style scoped>\n",
       "    .dataframe tbody tr th:only-of-type {\n",
       "        vertical-align: middle;\n",
       "    }\n",
       "\n",
       "    .dataframe tbody tr th {\n",
       "        vertical-align: top;\n",
       "    }\n",
       "\n",
       "    .dataframe thead th {\n",
       "        text-align: right;\n",
       "    }\n",
       "</style>\n",
       "<table border=\"1\" class=\"dataframe\">\n",
       "  <thead>\n",
       "    <tr style=\"text-align: right;\">\n",
       "      <th></th>\n",
       "      <th>Time</th>\n",
       "      <th>Wärmeenergie Tarif 1</th>\n",
       "      <th>Durchfluss</th>\n",
       "      <th>Vorlauftemperatur</th>\n",
       "      <th>Rücklauftemperatur</th>\n",
       "      <th>Wärmeleistung</th>\n",
       "      <th>Volumen Kanal 1</th>\n",
       "      <th>WV+ Arbeit Tarif 1</th>\n",
       "    </tr>\n",
       "  </thead>\n",
       "  <tbody>\n",
       "    <tr>\n",
       "      <th>count</th>\n",
       "      <td>65529</td>\n",
       "      <td>16381</td>\n",
       "      <td>16381.0</td>\n",
       "      <td>16381.0</td>\n",
       "      <td>16381.0</td>\n",
       "      <td>16381.0</td>\n",
       "      <td>16380.000</td>\n",
       "      <td>65524.00</td>\n",
       "    </tr>\n",
       "    <tr>\n",
       "      <th>unique</th>\n",
       "      <td>65521</td>\n",
       "      <td>10429</td>\n",
       "      <td>1648.0</td>\n",
       "      <td>381.0</td>\n",
       "      <td>460.0</td>\n",
       "      <td>5569.0</td>\n",
       "      <td>7698.000</td>\n",
       "      <td>65524.00</td>\n",
       "    </tr>\n",
       "    <tr>\n",
       "      <th>top</th>\n",
       "      <td>2020-10-25 03:00:00</td>\n",
       "      <td>432028</td>\n",
       "      <td>0.0</td>\n",
       "      <td>62.3</td>\n",
       "      <td>55.3</td>\n",
       "      <td>0.0</td>\n",
       "      <td>4650.003</td>\n",
       "      <td>113602.84</td>\n",
       "    </tr>\n",
       "    <tr>\n",
       "      <th>freq</th>\n",
       "      <td>2</td>\n",
       "      <td>47</td>\n",
       "      <td>214.0</td>\n",
       "      <td>344.0</td>\n",
       "      <td>154.0</td>\n",
       "      <td>338.0</td>\n",
       "      <td>71.000</td>\n",
       "      <td>1.00</td>\n",
       "    </tr>\n",
       "  </tbody>\n",
       "</table>\n",
       "</div>"
      ],
      "text/plain": [
       "                       Time  Wärmeenergie Tarif 1  Durchfluss  \\\n",
       "count                 65529                 16381     16381.0   \n",
       "unique                65521                 10429      1648.0   \n",
       "top     2020-10-25 03:00:00                432028         0.0   \n",
       "freq                      2                    47       214.0   \n",
       "\n",
       "        Vorlauftemperatur  Rücklauftemperatur  Wärmeleistung  Volumen Kanal 1  \\\n",
       "count             16381.0             16381.0        16381.0        16380.000   \n",
       "unique              381.0               460.0         5569.0         7698.000   \n",
       "top                  62.3                55.3            0.0         4650.003   \n",
       "freq                344.0               154.0          338.0           71.000   \n",
       "\n",
       "        WV+ Arbeit Tarif 1  \n",
       "count             65524.00  \n",
       "unique            65524.00  \n",
       "top              113602.84  \n",
       "freq                  1.00  "
      ]
     },
     "execution_count": 21,
     "metadata": {},
     "output_type": "execute_result"
    }
   ],
   "source": [
    "df_KitaHokido_1.describe()"
   ]
  },
  {
   "cell_type": "code",
   "execution_count": 22,
   "id": "df31934b",
   "metadata": {},
   "outputs": [
    {
     "data": {
      "text/plain": [
       "294894"
      ]
     },
     "execution_count": 22,
     "metadata": {},
     "output_type": "execute_result"
    }
   ],
   "source": [
    "df_KitaHokido_1.isnull().sum().sum()  #provides the summation of null values in our dataset featurewise"
   ]
  },
  {
   "cell_type": "code",
   "execution_count": 23,
   "id": "78103b7d",
   "metadata": {},
   "outputs": [
    {
     "data": {
      "text/html": [
       "<div>\n",
       "<style scoped>\n",
       "    .dataframe tbody tr th:only-of-type {\n",
       "        vertical-align: middle;\n",
       "    }\n",
       "\n",
       "    .dataframe tbody tr th {\n",
       "        vertical-align: top;\n",
       "    }\n",
       "\n",
       "    .dataframe thead th {\n",
       "        text-align: right;\n",
       "    }\n",
       "</style>\n",
       "<table border=\"1\" class=\"dataframe\">\n",
       "  <thead>\n",
       "    <tr style=\"text-align: right;\">\n",
       "      <th></th>\n",
       "      <th>Time</th>\n",
       "      <th>Wärmeenergie Tarif 1</th>\n",
       "      <th>Durchfluss</th>\n",
       "      <th>Vorlauftemperatur</th>\n",
       "      <th>Rücklauftemperatur</th>\n",
       "      <th>Wärmeleistung</th>\n",
       "      <th>Volumen Kanal 1</th>\n",
       "      <th>WV+ Arbeit Tarif 1</th>\n",
       "    </tr>\n",
       "  </thead>\n",
       "  <tbody>\n",
       "    <tr>\n",
       "      <th>min</th>\n",
       "      <td>2020-03-14 15:15:00</td>\n",
       "      <td>376796</td>\n",
       "      <td>0.000</td>\n",
       "      <td>25.0</td>\n",
       "      <td>20.5</td>\n",
       "      <td>0.000</td>\n",
       "      <td>4284.650</td>\n",
       "      <td>88836.98</td>\n",
       "    </tr>\n",
       "    <tr>\n",
       "      <th>max</th>\n",
       "      <td>2022-01-26 05:15:00</td>\n",
       "      <td>471184</td>\n",
       "      <td>1.973</td>\n",
       "      <td>84.8</td>\n",
       "      <td>69.4</td>\n",
       "      <td>76.273</td>\n",
       "      <td>5076.468</td>\n",
       "      <td>113602.84</td>\n",
       "    </tr>\n",
       "  </tbody>\n",
       "</table>\n",
       "</div>"
      ],
      "text/plain": [
       "                   Time  Wärmeenergie Tarif 1  Durchfluss  Vorlauftemperatur  \\\n",
       "min 2020-03-14 15:15:00                376796       0.000               25.0   \n",
       "max 2022-01-26 05:15:00                471184       1.973               84.8   \n",
       "\n",
       "     Rücklauftemperatur  Wärmeleistung  Volumen Kanal 1  WV+ Arbeit Tarif 1  \n",
       "min                20.5          0.000         4284.650            88836.98  \n",
       "max                69.4         76.273         5076.468           113602.84  "
      ]
     },
     "execution_count": 23,
     "metadata": {},
     "output_type": "execute_result"
    }
   ],
   "source": [
    "df_KitaHokido_1.agg(['min', 'max'])  #finding the min max values of each feature"
   ]
  },
  {
   "cell_type": "code",
   "execution_count": 24,
   "id": "843d8bba",
   "metadata": {},
   "outputs": [
    {
     "data": {
      "text/html": [
       "<div>\n",
       "<style scoped>\n",
       "    .dataframe tbody tr th:only-of-type {\n",
       "        vertical-align: middle;\n",
       "    }\n",
       "\n",
       "    .dataframe tbody tr th {\n",
       "        vertical-align: top;\n",
       "    }\n",
       "\n",
       "    .dataframe thead th {\n",
       "        text-align: right;\n",
       "    }\n",
       "</style>\n",
       "<table border=\"1\" class=\"dataframe\">\n",
       "  <thead>\n",
       "    <tr style=\"text-align: right;\">\n",
       "      <th></th>\n",
       "      <th>Time</th>\n",
       "      <th>Wärmeenergie Tarif 1</th>\n",
       "      <th>Durchfluss</th>\n",
       "      <th>Vorlauftemperatur</th>\n",
       "      <th>Rücklauftemperatur</th>\n",
       "      <th>Wärmeleistung</th>\n",
       "      <th>Volumen Kanal 1</th>\n",
       "      <th>WV+ Arbeit Tarif 1</th>\n",
       "    </tr>\n",
       "  </thead>\n",
       "  <tbody>\n",
       "    <tr>\n",
       "      <th>0</th>\n",
       "      <td>2022-04-05 02:15:00</td>\n",
       "      <td>NaN</td>\n",
       "      <td>NaN</td>\n",
       "      <td>NaN</td>\n",
       "      <td>NaN</td>\n",
       "      <td>NaN</td>\n",
       "      <td>NaN</td>\n",
       "      <td>116705.67</td>\n",
       "    </tr>\n",
       "    <tr>\n",
       "      <th>1</th>\n",
       "      <td>2022-04-05 02:00:00</td>\n",
       "      <td>484988</td>\n",
       "      <td>0.316</td>\n",
       "      <td>59.3</td>\n",
       "      <td>59.4</td>\n",
       "      <td>0.134</td>\n",
       "      <td>5172.875</td>\n",
       "      <td>116705.52</td>\n",
       "    </tr>\n",
       "    <tr>\n",
       "      <th>2</th>\n",
       "      <td>2022-04-05 01:45:00</td>\n",
       "      <td>NaN</td>\n",
       "      <td>NaN</td>\n",
       "      <td>NaN</td>\n",
       "      <td>NaN</td>\n",
       "      <td>NaN</td>\n",
       "      <td>NaN</td>\n",
       "      <td>116705.34</td>\n",
       "    </tr>\n",
       "    <tr>\n",
       "      <th>3</th>\n",
       "      <td>2022-04-05 01:30:00</td>\n",
       "      <td>NaN</td>\n",
       "      <td>NaN</td>\n",
       "      <td>NaN</td>\n",
       "      <td>NaN</td>\n",
       "      <td>NaN</td>\n",
       "      <td>NaN</td>\n",
       "      <td>116705.18</td>\n",
       "    </tr>\n",
       "    <tr>\n",
       "      <th>4</th>\n",
       "      <td>2022-04-05 01:15:00</td>\n",
       "      <td>NaN</td>\n",
       "      <td>NaN</td>\n",
       "      <td>NaN</td>\n",
       "      <td>NaN</td>\n",
       "      <td>NaN</td>\n",
       "      <td>NaN</td>\n",
       "      <td>116705.06</td>\n",
       "    </tr>\n",
       "  </tbody>\n",
       "</table>\n",
       "</div>"
      ],
      "text/plain": [
       "                  Time Wärmeenergie Tarif 1 Durchfluss Vorlauftemperatur  \\\n",
       "0  2022-04-05 02:15:00                  NaN        NaN               NaN   \n",
       "1  2022-04-05 02:00:00               484988      0.316              59.3   \n",
       "2  2022-04-05 01:45:00                  NaN        NaN               NaN   \n",
       "3  2022-04-05 01:30:00                  NaN        NaN               NaN   \n",
       "4  2022-04-05 01:15:00                  NaN        NaN               NaN   \n",
       "\n",
       "  Rücklauftemperatur Wärmeleistung Volumen Kanal 1 WV+ Arbeit Tarif 1  \n",
       "0                NaN           NaN             NaN          116705.67  \n",
       "1               59.4         0.134        5172.875          116705.52  \n",
       "2                NaN           NaN             NaN          116705.34  \n",
       "3                NaN           NaN             NaN          116705.18  \n",
       "4                NaN           NaN             NaN          116705.06  "
      ]
     },
     "execution_count": 24,
     "metadata": {},
     "output_type": "execute_result"
    }
   ],
   "source": [
    "df_KitaHokido_2 = df_KitaHokido_2.drop(0, axis = 0)  #dropping the first row\n",
    "df_KitaHokido_2 = df_KitaHokido_2.reset_index(drop = True)\n",
    "df_KitaHokido_2 = df_KitaHokido_2.rename({'OBIS Bezeichnung' : 'Time'}, axis = 1)\n",
    "df_KitaHokido_2.head()"
   ]
  },
  {
   "cell_type": "code",
   "execution_count": 25,
   "id": "175313a8",
   "metadata": {},
   "outputs": [
    {
     "data": {
      "text/plain": [
       "Index(['Time', 'Wärmeenergie Tarif 1', 'Durchfluss', 'Vorlauftemperatur',\n",
       "       'Rücklauftemperatur', 'Wärmeleistung', 'Volumen Kanal 1',\n",
       "       'WV+ Arbeit Tarif 1'],\n",
       "      dtype='object')"
      ]
     },
     "execution_count": 25,
     "metadata": {},
     "output_type": "execute_result"
    }
   ],
   "source": [
    "df_KitaHokido_2.columns "
   ]
  },
  {
   "cell_type": "code",
   "execution_count": 26,
   "id": "ba48eeb1",
   "metadata": {},
   "outputs": [
    {
     "data": {
      "text/html": [
       "<div>\n",
       "<style scoped>\n",
       "    .dataframe tbody tr th:only-of-type {\n",
       "        vertical-align: middle;\n",
       "    }\n",
       "\n",
       "    .dataframe tbody tr th {\n",
       "        vertical-align: top;\n",
       "    }\n",
       "\n",
       "    .dataframe thead th {\n",
       "        text-align: right;\n",
       "    }\n",
       "</style>\n",
       "<table border=\"1\" class=\"dataframe\">\n",
       "  <thead>\n",
       "    <tr style=\"text-align: right;\">\n",
       "      <th></th>\n",
       "      <th>Time</th>\n",
       "      <th>Wärmeenergie Tarif 1</th>\n",
       "      <th>Durchfluss</th>\n",
       "      <th>Vorlauftemperatur</th>\n",
       "      <th>Rücklauftemperatur</th>\n",
       "      <th>Wärmeleistung</th>\n",
       "      <th>Volumen Kanal 1</th>\n",
       "      <th>WV+ Arbeit Tarif 1</th>\n",
       "    </tr>\n",
       "  </thead>\n",
       "  <tbody>\n",
       "    <tr>\n",
       "      <th>count</th>\n",
       "      <td>65530</td>\n",
       "      <td>16290</td>\n",
       "      <td>16290.0</td>\n",
       "      <td>16290.0</td>\n",
       "      <td>16290.0</td>\n",
       "      <td>16290.0</td>\n",
       "      <td>16289.000</td>\n",
       "      <td>65156.00</td>\n",
       "    </tr>\n",
       "    <tr>\n",
       "      <th>unique</th>\n",
       "      <td>65522</td>\n",
       "      <td>10588</td>\n",
       "      <td>1714.0</td>\n",
       "      <td>387.0</td>\n",
       "      <td>469.0</td>\n",
       "      <td>5795.0</td>\n",
       "      <td>7959.000</td>\n",
       "      <td>65156.00</td>\n",
       "    </tr>\n",
       "    <tr>\n",
       "      <th>top</th>\n",
       "      <td>2020-10-25 03:00:00</td>\n",
       "      <td>432028</td>\n",
       "      <td>0.0</td>\n",
       "      <td>62.3</td>\n",
       "      <td>55.3</td>\n",
       "      <td>0.0</td>\n",
       "      <td>4650.003</td>\n",
       "      <td>116705.67</td>\n",
       "    </tr>\n",
       "    <tr>\n",
       "      <th>freq</th>\n",
       "      <td>2</td>\n",
       "      <td>47</td>\n",
       "      <td>214.0</td>\n",
       "      <td>349.0</td>\n",
       "      <td>157.0</td>\n",
       "      <td>338.0</td>\n",
       "      <td>71.000</td>\n",
       "      <td>1.00</td>\n",
       "    </tr>\n",
       "  </tbody>\n",
       "</table>\n",
       "</div>"
      ],
      "text/plain": [
       "                       Time  Wärmeenergie Tarif 1  Durchfluss  \\\n",
       "count                 65530                 16290     16290.0   \n",
       "unique                65522                 10588      1714.0   \n",
       "top     2020-10-25 03:00:00                432028         0.0   \n",
       "freq                      2                    47       214.0   \n",
       "\n",
       "        Vorlauftemperatur  Rücklauftemperatur  Wärmeleistung  Volumen Kanal 1  \\\n",
       "count             16290.0             16290.0        16290.0        16289.000   \n",
       "unique              387.0               469.0         5795.0         7959.000   \n",
       "top                  62.3                55.3            0.0         4650.003   \n",
       "freq                349.0               157.0          338.0           71.000   \n",
       "\n",
       "        WV+ Arbeit Tarif 1  \n",
       "count             65156.00  \n",
       "unique            65156.00  \n",
       "top              116705.67  \n",
       "freq                  1.00  "
      ]
     },
     "execution_count": 26,
     "metadata": {},
     "output_type": "execute_result"
    }
   ],
   "source": [
    "df_KitaHokido_2.describe()\n"
   ]
  },
  {
   "cell_type": "code",
   "execution_count": 27,
   "id": "639bff3e",
   "metadata": {},
   "outputs": [
    {
     "data": {
      "text/plain": [
       "295815"
      ]
     },
     "execution_count": 27,
     "metadata": {},
     "output_type": "execute_result"
    }
   ],
   "source": [
    "df_KitaHokido_2.isnull().sum().sum()"
   ]
  },
  {
   "cell_type": "code",
   "execution_count": 28,
   "id": "60c908ad",
   "metadata": {},
   "outputs": [
    {
     "data": {
      "text/html": [
       "<div>\n",
       "<style scoped>\n",
       "    .dataframe tbody tr th:only-of-type {\n",
       "        vertical-align: middle;\n",
       "    }\n",
       "\n",
       "    .dataframe tbody tr th {\n",
       "        vertical-align: top;\n",
       "    }\n",
       "\n",
       "    .dataframe thead th {\n",
       "        text-align: right;\n",
       "    }\n",
       "</style>\n",
       "<table border=\"1\" class=\"dataframe\">\n",
       "  <thead>\n",
       "    <tr style=\"text-align: right;\">\n",
       "      <th></th>\n",
       "      <th>Time</th>\n",
       "      <th>Wärmeenergie Tarif 1</th>\n",
       "      <th>Durchfluss</th>\n",
       "      <th>Vorlauftemperatur</th>\n",
       "      <th>Rücklauftemperatur</th>\n",
       "      <th>Wärmeleistung</th>\n",
       "      <th>Volumen Kanal 1</th>\n",
       "      <th>WV+ Arbeit Tarif 1</th>\n",
       "    </tr>\n",
       "  </thead>\n",
       "  <tbody>\n",
       "    <tr>\n",
       "      <th>min</th>\n",
       "      <td>2020-05-22 12:00:00</td>\n",
       "      <td>379888</td>\n",
       "      <td>0.000</td>\n",
       "      <td>25.0</td>\n",
       "      <td>20.5</td>\n",
       "      <td>0.000</td>\n",
       "      <td>4301.371</td>\n",
       "      <td>89792.46</td>\n",
       "    </tr>\n",
       "    <tr>\n",
       "      <th>max</th>\n",
       "      <td>2022-04-05 02:15:00</td>\n",
       "      <td>484988</td>\n",
       "      <td>1.979</td>\n",
       "      <td>84.8</td>\n",
       "      <td>69.4</td>\n",
       "      <td>76.273</td>\n",
       "      <td>5172.875</td>\n",
       "      <td>116705.67</td>\n",
       "    </tr>\n",
       "  </tbody>\n",
       "</table>\n",
       "</div>"
      ],
      "text/plain": [
       "                   Time  Wärmeenergie Tarif 1  Durchfluss  Vorlauftemperatur  \\\n",
       "min 2020-05-22 12:00:00                379888       0.000               25.0   \n",
       "max 2022-04-05 02:15:00                484988       1.979               84.8   \n",
       "\n",
       "     Rücklauftemperatur  Wärmeleistung  Volumen Kanal 1  WV+ Arbeit Tarif 1  \n",
       "min                20.5          0.000         4301.371            89792.46  \n",
       "max                69.4         76.273         5172.875           116705.67  "
      ]
     },
     "execution_count": 28,
     "metadata": {},
     "output_type": "execute_result"
    }
   ],
   "source": [
    "df_KitaHokido_2.agg(['min', 'max'])   #finding the min max values of each feature\n"
   ]
  },
  {
   "cell_type": "code",
   "execution_count": null,
   "id": "959ceded",
   "metadata": {},
   "outputs": [],
   "source": [
    "\n"
   ]
  },
  {
   "cell_type": "code",
   "execution_count": 29,
   "id": "521ecf27",
   "metadata": {},
   "outputs": [],
   "source": [
    "df_Chemie_1 = df_Chemie_1.drop(0, axis = 0) #dropping the first row\n",
    "df_Chemie_1 = df_Chemie_1.reset_index(drop = True) #resetting the index\n",
    "df_Chemie_1 = df_Chemie_1.rename({'OBIS Bezeichnung' : 'Time'}, axis = 1) #renaming the column 'OBIS Bezeichnung' as 'time'\n",
    "\n"
   ]
  },
  {
   "cell_type": "code",
   "execution_count": 30,
   "id": "d29eb5f7",
   "metadata": {},
   "outputs": [
    {
     "data": {
      "text/html": [
       "<div>\n",
       "<style scoped>\n",
       "    .dataframe tbody tr th:only-of-type {\n",
       "        vertical-align: middle;\n",
       "    }\n",
       "\n",
       "    .dataframe tbody tr th {\n",
       "        vertical-align: top;\n",
       "    }\n",
       "\n",
       "    .dataframe thead th {\n",
       "        text-align: right;\n",
       "    }\n",
       "</style>\n",
       "<table border=\"1\" class=\"dataframe\">\n",
       "  <thead>\n",
       "    <tr style=\"text-align: right;\">\n",
       "      <th></th>\n",
       "      <th>Time</th>\n",
       "      <th>Wärmeenergie Tarif 1</th>\n",
       "      <th>Durchfluss</th>\n",
       "      <th>Vorlauftemperatur</th>\n",
       "      <th>Rücklauftemperatur</th>\n",
       "      <th>Wärmeleistung</th>\n",
       "      <th>Volumen Kanal 1</th>\n",
       "      <th>Volumen Kanal 1.1</th>\n",
       "      <th>Fehler Flags</th>\n",
       "      <th>WV+ Arbeit Tarif 1</th>\n",
       "      <th>...</th>\n",
       "      <th>WV+ Arbeit Tarif 1.1</th>\n",
       "      <th>P Summe</th>\n",
       "      <th>WV+ Arbeit tariflos</th>\n",
       "      <th>WV+ Arbeit Tarif 1.2</th>\n",
       "      <th>WV- Arbeit tariflos</th>\n",
       "      <th>WV- Arbeit Tarif 1</th>\n",
       "      <th>BV+ Arbeit tariflos</th>\n",
       "      <th>BV+ Arbeit Tarif 1</th>\n",
       "      <th>BV- Arbeit tariflos</th>\n",
       "      <th>BV- Arbeit Tarif 1</th>\n",
       "    </tr>\n",
       "  </thead>\n",
       "  <tbody>\n",
       "    <tr>\n",
       "      <th>min</th>\n",
       "      <td>2020-03-14 15:15:00</td>\n",
       "      <td>44520655</td>\n",
       "      <td>0.000</td>\n",
       "      <td>65.8</td>\n",
       "      <td>44.4</td>\n",
       "      <td>0.000</td>\n",
       "      <td>10159.14</td>\n",
       "      <td>12373.554</td>\n",
       "      <td>NaN</td>\n",
       "      <td>1490274.3</td>\n",
       "      <td>...</td>\n",
       "      <td>9675.7</td>\n",
       "      <td>0</td>\n",
       "      <td>900.1225</td>\n",
       "      <td>900.1225</td>\n",
       "      <td>0.0043</td>\n",
       "      <td>0.0043</td>\n",
       "      <td>612.5752</td>\n",
       "      <td>612.5752</td>\n",
       "      <td>1.4426</td>\n",
       "      <td>1.4426</td>\n",
       "    </tr>\n",
       "    <tr>\n",
       "      <th>max</th>\n",
       "      <td>2022-01-26 05:30:00</td>\n",
       "      <td>46528915</td>\n",
       "      <td>7.412</td>\n",
       "      <td>140.8</td>\n",
       "      <td>96.9</td>\n",
       "      <td>419.857</td>\n",
       "      <td>10194.66</td>\n",
       "      <td>15053.896</td>\n",
       "      <td>NaN</td>\n",
       "      <td>8267809.7</td>\n",
       "      <td>...</td>\n",
       "      <td>10951.5</td>\n",
       "      <td>0</td>\n",
       "      <td>900.1225</td>\n",
       "      <td>3210.9745</td>\n",
       "      <td>0.0043</td>\n",
       "      <td>0.0401</td>\n",
       "      <td>612.5752</td>\n",
       "      <td>612.5752</td>\n",
       "      <td>1.4426</td>\n",
       "      <td>1.4426</td>\n",
       "    </tr>\n",
       "  </tbody>\n",
       "</table>\n",
       "<p>2 rows × 22 columns</p>\n",
       "</div>"
      ],
      "text/plain": [
       "                   Time  Wärmeenergie Tarif 1  Durchfluss  Vorlauftemperatur  \\\n",
       "min 2020-03-14 15:15:00              44520655       0.000               65.8   \n",
       "max 2022-01-26 05:30:00              46528915       7.412              140.8   \n",
       "\n",
       "     Rücklauftemperatur  Wärmeleistung  Volumen Kanal 1  Volumen Kanal 1.1  \\\n",
       "min                44.4          0.000         10159.14          12373.554   \n",
       "max                96.9        419.857         10194.66          15053.896   \n",
       "\n",
       "     Fehler Flags  WV+ Arbeit Tarif 1  ...  WV+ Arbeit Tarif 1.1  P Summe  \\\n",
       "min           NaN           1490274.3  ...                9675.7        0   \n",
       "max           NaN           8267809.7  ...               10951.5        0   \n",
       "\n",
       "     WV+ Arbeit tariflos  WV+ Arbeit Tarif 1.2  WV- Arbeit tariflos  \\\n",
       "min             900.1225              900.1225               0.0043   \n",
       "max             900.1225             3210.9745               0.0043   \n",
       "\n",
       "     WV- Arbeit Tarif 1  BV+ Arbeit tariflos  BV+ Arbeit Tarif 1  \\\n",
       "min              0.0043             612.5752            612.5752   \n",
       "max              0.0401             612.5752            612.5752   \n",
       "\n",
       "     BV- Arbeit tariflos  BV- Arbeit Tarif 1  \n",
       "min               1.4426              1.4426  \n",
       "max               1.4426              1.4426  \n",
       "\n",
       "[2 rows x 22 columns]"
      ]
     },
     "execution_count": 30,
     "metadata": {},
     "output_type": "execute_result"
    }
   ],
   "source": [
    "df_Chemie_1.agg(['min', 'max']) "
   ]
  },
  {
   "cell_type": "code",
   "execution_count": 31,
   "id": "8b4125fa",
   "metadata": {},
   "outputs": [
    {
     "data": {
      "text/plain": [
       "1088547"
      ]
     },
     "execution_count": 31,
     "metadata": {},
     "output_type": "execute_result"
    }
   ],
   "source": [
    "df_Chemie_1.isnull().sum().sum()"
   ]
  },
  {
   "cell_type": "code",
   "execution_count": 32,
   "id": "8c6dae21",
   "metadata": {},
   "outputs": [],
   "source": [
    "df_Chemie_2 = df_Chemie_2.drop(0, axis = 0) #dropping the first row\n",
    "df_Chemie_2 = df_Chemie_2.reset_index(drop = True) #resetting the index\n",
    "df_Chemie_2 = df_Chemie_2.rename({'OBIS Bezeichnung' : 'Time'}, axis = 1) #renaming the column 'OBIS Bezeichnung' as 'time'\n"
   ]
  },
  {
   "cell_type": "code",
   "execution_count": 33,
   "id": "4eb6cee3",
   "metadata": {},
   "outputs": [
    {
     "data": {
      "text/html": [
       "<div>\n",
       "<style scoped>\n",
       "    .dataframe tbody tr th:only-of-type {\n",
       "        vertical-align: middle;\n",
       "    }\n",
       "\n",
       "    .dataframe tbody tr th {\n",
       "        vertical-align: top;\n",
       "    }\n",
       "\n",
       "    .dataframe thead th {\n",
       "        text-align: right;\n",
       "    }\n",
       "</style>\n",
       "<table border=\"1\" class=\"dataframe\">\n",
       "  <thead>\n",
       "    <tr style=\"text-align: right;\">\n",
       "      <th></th>\n",
       "      <th>Time</th>\n",
       "      <th>Wärmeenergie Tarif 1</th>\n",
       "      <th>Durchfluss</th>\n",
       "      <th>Vorlauftemperatur</th>\n",
       "      <th>Rücklauftemperatur</th>\n",
       "      <th>Wärmeleistung</th>\n",
       "      <th>Volumen Kanal 1</th>\n",
       "      <th>Volumen Kanal 1.1</th>\n",
       "      <th>Gerätenummer</th>\n",
       "      <th>Volumen Kanal 1.2</th>\n",
       "      <th>WV+ Arbeit Tarif 1</th>\n",
       "      <th>WV+ Arbeit Tarif 1.1</th>\n",
       "      <th>WV+ Arbeit Tarif 1.2</th>\n",
       "      <th>WV- Arbeit Tarif 1</th>\n",
       "    </tr>\n",
       "  </thead>\n",
       "  <tbody>\n",
       "    <tr>\n",
       "      <th>min</th>\n",
       "      <td>2022-01-26 00:45:00</td>\n",
       "      <td>46527907</td>\n",
       "      <td>0.000</td>\n",
       "      <td>71.3</td>\n",
       "      <td>49.9</td>\n",
       "      <td>0.000</td>\n",
       "      <td>10194.66</td>\n",
       "      <td>15066.673</td>\n",
       "      <td>18126669</td>\n",
       "      <td>71.041</td>\n",
       "      <td>8265969.1</td>\n",
       "      <td>10951.2</td>\n",
       "      <td>3210.9745</td>\n",
       "      <td>0.0401</td>\n",
       "    </tr>\n",
       "    <tr>\n",
       "      <th>max</th>\n",
       "      <td>2022-07-19 01:45:00</td>\n",
       "      <td>48471182</td>\n",
       "      <td>64.391</td>\n",
       "      <td>132.1</td>\n",
       "      <td>78.3</td>\n",
       "      <td>2550.702</td>\n",
       "      <td>10204.29</td>\n",
       "      <td>15662.370</td>\n",
       "      <td>18126669</td>\n",
       "      <td>84.066</td>\n",
       "      <td>10063898.3</td>\n",
       "      <td>11472.4</td>\n",
       "      <td>4281.9272</td>\n",
       "      <td>0.0784</td>\n",
       "    </tr>\n",
       "  </tbody>\n",
       "</table>\n",
       "</div>"
      ],
      "text/plain": [
       "                   Time  Wärmeenergie Tarif 1  Durchfluss  Vorlauftemperatur  \\\n",
       "min 2022-01-26 00:45:00              46527907       0.000               71.3   \n",
       "max 2022-07-19 01:45:00              48471182      64.391              132.1   \n",
       "\n",
       "     Rücklauftemperatur  Wärmeleistung  Volumen Kanal 1  Volumen Kanal 1.1  \\\n",
       "min                49.9          0.000         10194.66          15066.673   \n",
       "max                78.3       2550.702         10204.29          15662.370   \n",
       "\n",
       "     Gerätenummer  Volumen Kanal 1.2  WV+ Arbeit Tarif 1  \\\n",
       "min      18126669             71.041           8265969.1   \n",
       "max      18126669             84.066          10063898.3   \n",
       "\n",
       "     WV+ Arbeit Tarif 1.1  WV+ Arbeit Tarif 1.2  WV- Arbeit Tarif 1  \n",
       "min               10951.2             3210.9745              0.0401  \n",
       "max               11472.4             4281.9272              0.0784  "
      ]
     },
     "execution_count": 33,
     "metadata": {},
     "output_type": "execute_result"
    }
   ],
   "source": [
    "df_Chemie_2.agg(['min', 'max']) "
   ]
  },
  {
   "cell_type": "code",
   "execution_count": 34,
   "id": "03276ff9",
   "metadata": {},
   "outputs": [
    {
     "data": {
      "text/plain": [
       "96929"
      ]
     },
     "execution_count": 34,
     "metadata": {},
     "output_type": "execute_result"
    }
   ],
   "source": [
    "df_Chemie_2.isnull().sum().sum()"
   ]
  },
  {
   "cell_type": "code",
   "execution_count": 35,
   "id": "2a29b278",
   "metadata": {},
   "outputs": [],
   "source": [
    "df_Großtagespflege_1 = df_Großtagespflege_1.drop(0, axis = 0) #dropping the first row\n",
    "df_Großtagespflege_1 = df_Großtagespflege_1.reset_index(drop = True) #resetting the index\n",
    "df_Großtagespflege_1 = df_Großtagespflege_1.rename({'OBIS Bezeichnung' : 'Time'}, axis = 1) #renaming the column 'OBIS Bezeichnung' as 'time'\n",
    "\n"
   ]
  },
  {
   "cell_type": "code",
   "execution_count": 36,
   "id": "4cf93d45",
   "metadata": {},
   "outputs": [
    {
     "data": {
      "text/html": [
       "<div>\n",
       "<style scoped>\n",
       "    .dataframe tbody tr th:only-of-type {\n",
       "        vertical-align: middle;\n",
       "    }\n",
       "\n",
       "    .dataframe tbody tr th {\n",
       "        vertical-align: top;\n",
       "    }\n",
       "\n",
       "    .dataframe thead th {\n",
       "        text-align: right;\n",
       "    }\n",
       "</style>\n",
       "<table border=\"1\" class=\"dataframe\">\n",
       "  <thead>\n",
       "    <tr style=\"text-align: right;\">\n",
       "      <th></th>\n",
       "      <th>Time</th>\n",
       "      <th>Wärmeenergie Tarif 1</th>\n",
       "      <th>Durchfluss</th>\n",
       "      <th>Volumen</th>\n",
       "      <th>Vorlauftemperatur</th>\n",
       "      <th>Rücklauftemperatur</th>\n",
       "      <th>Temperaturdifferenz</th>\n",
       "      <th>Wärmeleistung</th>\n",
       "      <th>Wärmeenergie Tarif 1.1</th>\n",
       "      <th>Durchfluss.1</th>\n",
       "      <th>...</th>\n",
       "      <th>BV+ Arbeit Tarif 1.1</th>\n",
       "      <th>BV- Arbeit tariflos.1</th>\n",
       "      <th>BV- Arbeit Tarif 1.1</th>\n",
       "      <th>P Summe.2</th>\n",
       "      <th>WV+ Arbeit tariflos.2</th>\n",
       "      <th>WV+ Arbeit Tarif 1.2</th>\n",
       "      <th>WV+ Arbeit tariflos.3</th>\n",
       "      <th>WV+ Arbeit Tarif 1.3</th>\n",
       "      <th>WV- Arbeit tariflos.3</th>\n",
       "      <th>WV- Arbeit Tarif 1.3</th>\n",
       "    </tr>\n",
       "  </thead>\n",
       "  <tbody>\n",
       "    <tr>\n",
       "      <th>min</th>\n",
       "      <td>2021-10-24 08:30:00</td>\n",
       "      <td>71</td>\n",
       "      <td>0.000</td>\n",
       "      <td>81.272</td>\n",
       "      <td>14.9</td>\n",
       "      <td>14.8</td>\n",
       "      <td>-0.3</td>\n",
       "      <td>0.00</td>\n",
       "      <td>76</td>\n",
       "      <td>0.000</td>\n",
       "      <td>...</td>\n",
       "      <td>1.8080</td>\n",
       "      <td>324.6421</td>\n",
       "      <td>324.6421</td>\n",
       "      <td>0.021170</td>\n",
       "      <td>116.1866</td>\n",
       "      <td>116.1866</td>\n",
       "      <td>21.3239</td>\n",
       "      <td>21.3239</td>\n",
       "      <td>2121.7470</td>\n",
       "      <td>2121.7470</td>\n",
       "    </tr>\n",
       "    <tr>\n",
       "      <th>max</th>\n",
       "      <td>2022-04-05 02:30:00</td>\n",
       "      <td>3788</td>\n",
       "      <td>0.804</td>\n",
       "      <td>516.666</td>\n",
       "      <td>44.6</td>\n",
       "      <td>33.6</td>\n",
       "      <td>21.5</td>\n",
       "      <td>12.23</td>\n",
       "      <td>4377</td>\n",
       "      <td>0.834</td>\n",
       "      <td>...</td>\n",
       "      <td>1.8081</td>\n",
       "      <td>741.2348</td>\n",
       "      <td>741.2348</td>\n",
       "      <td>15.538699</td>\n",
       "      <td>270.5456</td>\n",
       "      <td>270.5456</td>\n",
       "      <td>387.5243</td>\n",
       "      <td>387.5243</td>\n",
       "      <td>6073.0165</td>\n",
       "      <td>6073.0165</td>\n",
       "    </tr>\n",
       "  </tbody>\n",
       "</table>\n",
       "<p>2 rows × 46 columns</p>\n",
       "</div>"
      ],
      "text/plain": [
       "                   Time  Wärmeenergie Tarif 1  Durchfluss  Volumen  \\\n",
       "min 2021-10-24 08:30:00                    71       0.000   81.272   \n",
       "max 2022-04-05 02:30:00                  3788       0.804  516.666   \n",
       "\n",
       "     Vorlauftemperatur  Rücklauftemperatur  Temperaturdifferenz  \\\n",
       "min               14.9                14.8                 -0.3   \n",
       "max               44.6                33.6                 21.5   \n",
       "\n",
       "     Wärmeleistung  Wärmeenergie Tarif 1.1  Durchfluss.1  ...  \\\n",
       "min           0.00                      76         0.000  ...   \n",
       "max          12.23                    4377         0.834  ...   \n",
       "\n",
       "     BV+ Arbeit Tarif 1.1  BV- Arbeit tariflos.1  BV- Arbeit Tarif 1.1  \\\n",
       "min                1.8080               324.6421              324.6421   \n",
       "max                1.8081               741.2348              741.2348   \n",
       "\n",
       "     P Summe.2  WV+ Arbeit tariflos.2  WV+ Arbeit Tarif 1.2  \\\n",
       "min   0.021170               116.1866              116.1866   \n",
       "max  15.538699               270.5456              270.5456   \n",
       "\n",
       "     WV+ Arbeit tariflos.3  WV+ Arbeit Tarif 1.3  WV- Arbeit tariflos.3  \\\n",
       "min                21.3239               21.3239              2121.7470   \n",
       "max               387.5243              387.5243              6073.0165   \n",
       "\n",
       "     WV- Arbeit Tarif 1.3  \n",
       "min             2121.7470  \n",
       "max             6073.0165  \n",
       "\n",
       "[2 rows x 46 columns]"
      ]
     },
     "execution_count": 36,
     "metadata": {},
     "output_type": "execute_result"
    }
   ],
   "source": [
    "df_Großtagespflege_1.agg(['min', 'max']) "
   ]
  },
  {
   "cell_type": "code",
   "execution_count": 37,
   "id": "8d5266f2",
   "metadata": {},
   "outputs": [
    {
     "data": {
      "text/plain": [
       "201514"
      ]
     },
     "execution_count": 37,
     "metadata": {},
     "output_type": "execute_result"
    }
   ],
   "source": [
    "df_Großtagespflege_1.isnull().sum().sum()"
   ]
  },
  {
   "cell_type": "code",
   "execution_count": 38,
   "id": "c14e2e07",
   "metadata": {},
   "outputs": [],
   "source": [
    "df_Großtagespflege_2 = df_Großtagespflege_2.drop(0, axis = 0) #dropping the first row\n",
    "df_Großtagespflege_2 = df_Großtagespflege_2.reset_index(drop = True) #resetting the index\n",
    "df_Großtagespflege_2 = df_Großtagespflege_2.rename({'OBIS Bezeichnung' : 'Time'}, axis = 1) #renaming the column 'OBIS Bezeichnung' as 'time'\n",
    "\n"
   ]
  },
  {
   "cell_type": "code",
   "execution_count": 39,
   "id": "4bc3ea42",
   "metadata": {},
   "outputs": [
    {
     "data": {
      "text/html": [
       "<div>\n",
       "<style scoped>\n",
       "    .dataframe tbody tr th:only-of-type {\n",
       "        vertical-align: middle;\n",
       "    }\n",
       "\n",
       "    .dataframe tbody tr th {\n",
       "        vertical-align: top;\n",
       "    }\n",
       "\n",
       "    .dataframe thead th {\n",
       "        text-align: right;\n",
       "    }\n",
       "</style>\n",
       "<table border=\"1\" class=\"dataframe\">\n",
       "  <thead>\n",
       "    <tr style=\"text-align: right;\">\n",
       "      <th></th>\n",
       "      <th>Time</th>\n",
       "      <th>Wärmeenergie Tarif 1</th>\n",
       "      <th>Durchfluss</th>\n",
       "      <th>Volumen</th>\n",
       "      <th>Vorlauftemperatur</th>\n",
       "      <th>Rücklauftemperatur</th>\n",
       "      <th>Temperaturdifferenz</th>\n",
       "      <th>Wärmeleistung</th>\n",
       "      <th>Wärmeenergie Tarif 1.1</th>\n",
       "      <th>Durchfluss.1</th>\n",
       "      <th>...</th>\n",
       "      <th>Durchfluss.2</th>\n",
       "      <th>Volumen Kanal 1</th>\n",
       "      <th>Durchfluss.3</th>\n",
       "      <th>Volumen Kanal 1.1</th>\n",
       "      <th>WV+ Arbeit tariflos</th>\n",
       "      <th>WV+ Arbeit Tarif 1</th>\n",
       "      <th>WV+ Arbeit tariflos.1</th>\n",
       "      <th>WV+ Arbeit Tarif 1.1</th>\n",
       "      <th>WV+ Arbeit tariflos.2</th>\n",
       "      <th>WV+ Arbeit Tarif 1.2</th>\n",
       "    </tr>\n",
       "  </thead>\n",
       "  <tbody>\n",
       "    <tr>\n",
       "      <th>min</th>\n",
       "      <td>2022-04-05 00:00:00</td>\n",
       "      <td>3788</td>\n",
       "      <td>0.000</td>\n",
       "      <td>516.666</td>\n",
       "      <td>19.9</td>\n",
       "      <td>18.4</td>\n",
       "      <td>-3.3</td>\n",
       "      <td>0.000</td>\n",
       "      <td>4377</td>\n",
       "      <td>0.000</td>\n",
       "      <td>...</td>\n",
       "      <td>0.000</td>\n",
       "      <td>3.63</td>\n",
       "      <td>0.000</td>\n",
       "      <td>5.14</td>\n",
       "      <td>191.2487</td>\n",
       "      <td>191.2487</td>\n",
       "      <td>270.488</td>\n",
       "      <td>270.488</td>\n",
       "      <td>387.3991</td>\n",
       "      <td>387.3991</td>\n",
       "    </tr>\n",
       "    <tr>\n",
       "      <th>max</th>\n",
       "      <td>2022-07-19 02:30:00</td>\n",
       "      <td>4185</td>\n",
       "      <td>0.473</td>\n",
       "      <td>649.077</td>\n",
       "      <td>36.7</td>\n",
       "      <td>36.6</td>\n",
       "      <td>15.1</td>\n",
       "      <td>8.097</td>\n",
       "      <td>4950</td>\n",
       "      <td>0.639</td>\n",
       "      <td>...</td>\n",
       "      <td>0.749</td>\n",
       "      <td>7.43</td>\n",
       "      <td>0.771</td>\n",
       "      <td>12.02</td>\n",
       "      <td>278.2320</td>\n",
       "      <td>278.2320</td>\n",
       "      <td>471.512</td>\n",
       "      <td>471.512</td>\n",
       "      <td>553.1428</td>\n",
       "      <td>553.1428</td>\n",
       "    </tr>\n",
       "  </tbody>\n",
       "</table>\n",
       "<p>2 rows × 25 columns</p>\n",
       "</div>"
      ],
      "text/plain": [
       "                   Time  Wärmeenergie Tarif 1  Durchfluss  Volumen  \\\n",
       "min 2022-04-05 00:00:00                  3788       0.000  516.666   \n",
       "max 2022-07-19 02:30:00                  4185       0.473  649.077   \n",
       "\n",
       "     Vorlauftemperatur  Rücklauftemperatur  Temperaturdifferenz  \\\n",
       "min               19.9                18.4                 -3.3   \n",
       "max               36.7                36.6                 15.1   \n",
       "\n",
       "     Wärmeleistung  Wärmeenergie Tarif 1.1  Durchfluss.1  ...  Durchfluss.2  \\\n",
       "min          0.000                    4377         0.000  ...         0.000   \n",
       "max          8.097                    4950         0.639  ...         0.749   \n",
       "\n",
       "     Volumen Kanal 1  Durchfluss.3  Volumen Kanal 1.1  WV+ Arbeit tariflos  \\\n",
       "min             3.63         0.000               5.14             191.2487   \n",
       "max             7.43         0.771              12.02             278.2320   \n",
       "\n",
       "     WV+ Arbeit Tarif 1  WV+ Arbeit tariflos.1  WV+ Arbeit Tarif 1.1  \\\n",
       "min            191.2487                270.488               270.488   \n",
       "max            278.2320                471.512               471.512   \n",
       "\n",
       "     WV+ Arbeit tariflos.2  WV+ Arbeit Tarif 1.2  \n",
       "min               387.3991              387.3991  \n",
       "max               553.1428              553.1428  \n",
       "\n",
       "[2 rows x 25 columns]"
      ]
     },
     "execution_count": 39,
     "metadata": {},
     "output_type": "execute_result"
    }
   ],
   "source": [
    "df_Großtagespflege_2.agg(['min', 'max']) "
   ]
  },
  {
   "cell_type": "code",
   "execution_count": 40,
   "id": "5d37f6e0",
   "metadata": {},
   "outputs": [
    {
     "data": {
      "text/plain": [
       "407"
      ]
     },
     "execution_count": 40,
     "metadata": {},
     "output_type": "execute_result"
    }
   ],
   "source": [
    "df_Großtagespflege_2.isnull().sum().sum()"
   ]
  },
  {
   "cell_type": "code",
   "execution_count": 41,
   "id": "2c64f16d",
   "metadata": {},
   "outputs": [],
   "source": [
    "df_HGII_1 = df_HGII_1.drop(0, axis = 0) #dropping the first row\n",
    "df_HGII_1 = df_HGII_1.reset_index(drop = True) #resetting the index\n",
    "df_HGII_1 = df_HGII_1.rename({'OBIS Bezeichnung' : 'Time'}, axis = 1) #renaming the column 'OBIS Bezeichnung' as 'time'\n",
    "\n"
   ]
  },
  {
   "cell_type": "code",
   "execution_count": 42,
   "id": "41cee47f",
   "metadata": {},
   "outputs": [
    {
     "data": {
      "text/html": [
       "<div>\n",
       "<style scoped>\n",
       "    .dataframe tbody tr th:only-of-type {\n",
       "        vertical-align: middle;\n",
       "    }\n",
       "\n",
       "    .dataframe tbody tr th {\n",
       "        vertical-align: top;\n",
       "    }\n",
       "\n",
       "    .dataframe thead th {\n",
       "        text-align: right;\n",
       "    }\n",
       "</style>\n",
       "<table border=\"1\" class=\"dataframe\">\n",
       "  <thead>\n",
       "    <tr style=\"text-align: right;\">\n",
       "      <th></th>\n",
       "      <th>Time</th>\n",
       "      <th>Wärmeenergie Tarif 1</th>\n",
       "      <th>Durchfluss</th>\n",
       "      <th>Volumen</th>\n",
       "      <th>Vorlauftemperatur</th>\n",
       "      <th>Rücklauftemperatur</th>\n",
       "      <th>Temperaturdifferenz</th>\n",
       "      <th>Wärmeleistung</th>\n",
       "      <th>Wärmeenergie Tarif 1.1</th>\n",
       "      <th>Durchfluss.1</th>\n",
       "      <th>...</th>\n",
       "      <th>Temperaturdifferenz.1</th>\n",
       "      <th>Wärmeleistung.1</th>\n",
       "      <th>Volumen Kanal 1</th>\n",
       "      <th>Volumen Kanal 1.1</th>\n",
       "      <th>P Summe</th>\n",
       "      <th>WV+ Arbeit Tarif 1</th>\n",
       "      <th>WV- Arbeit Tarif 1</th>\n",
       "      <th>WV+ Arbeit Tarif 1.1</th>\n",
       "      <th>WV+ Arbeit Tarif 1.2</th>\n",
       "      <th>WV+ Arbeit Tarif 1.3</th>\n",
       "    </tr>\n",
       "  </thead>\n",
       "  <tbody>\n",
       "    <tr>\n",
       "      <th>min</th>\n",
       "      <td>2021-09-22 12:45:00</td>\n",
       "      <td>5669</td>\n",
       "      <td>0.000000</td>\n",
       "      <td>120.8</td>\n",
       "      <td>51.362183</td>\n",
       "      <td>22.734283</td>\n",
       "      <td>-8.063049</td>\n",
       "      <td>-20.966041</td>\n",
       "      <td>4581450</td>\n",
       "      <td>0</td>\n",
       "      <td>...</td>\n",
       "      <td>0.00</td>\n",
       "      <td>0</td>\n",
       "      <td>7453.399</td>\n",
       "      <td>128.892</td>\n",
       "      <td>0.664223</td>\n",
       "      <td>133224.2002</td>\n",
       "      <td>0</td>\n",
       "      <td>970121.75</td>\n",
       "      <td>517197.28</td>\n",
       "      <td>32059.20</td>\n",
       "    </tr>\n",
       "    <tr>\n",
       "      <th>max</th>\n",
       "      <td>2022-01-26 05:15:00</td>\n",
       "      <td>330136</td>\n",
       "      <td>9.889479</td>\n",
       "      <td>6133.8</td>\n",
       "      <td>129.834778</td>\n",
       "      <td>75.951477</td>\n",
       "      <td>83.715149</td>\n",
       "      <td>409.707375</td>\n",
       "      <td>4581450</td>\n",
       "      <td>0</td>\n",
       "      <td>...</td>\n",
       "      <td>2.87</td>\n",
       "      <td>0</td>\n",
       "      <td>7811.359</td>\n",
       "      <td>135.548</td>\n",
       "      <td>90.049675</td>\n",
       "      <td>220451.9444</td>\n",
       "      <td>0</td>\n",
       "      <td>990515.76</td>\n",
       "      <td>569820.11</td>\n",
       "      <td>34494.08</td>\n",
       "    </tr>\n",
       "  </tbody>\n",
       "</table>\n",
       "<p>2 rows × 23 columns</p>\n",
       "</div>"
      ],
      "text/plain": [
       "                   Time  Wärmeenergie Tarif 1  Durchfluss  Volumen  \\\n",
       "min 2021-09-22 12:45:00                  5669    0.000000    120.8   \n",
       "max 2022-01-26 05:15:00                330136    9.889479   6133.8   \n",
       "\n",
       "     Vorlauftemperatur  Rücklauftemperatur  Temperaturdifferenz  \\\n",
       "min          51.362183           22.734283            -8.063049   \n",
       "max         129.834778           75.951477            83.715149   \n",
       "\n",
       "     Wärmeleistung  Wärmeenergie Tarif 1.1  Durchfluss.1  ...  \\\n",
       "min     -20.966041                 4581450             0  ...   \n",
       "max     409.707375                 4581450             0  ...   \n",
       "\n",
       "     Temperaturdifferenz.1  Wärmeleistung.1  Volumen Kanal 1  \\\n",
       "min                   0.00                0         7453.399   \n",
       "max                   2.87                0         7811.359   \n",
       "\n",
       "     Volumen Kanal 1.1    P Summe  WV+ Arbeit Tarif 1  WV- Arbeit Tarif 1  \\\n",
       "min            128.892   0.664223         133224.2002                   0   \n",
       "max            135.548  90.049675         220451.9444                   0   \n",
       "\n",
       "     WV+ Arbeit Tarif 1.1  WV+ Arbeit Tarif 1.2  WV+ Arbeit Tarif 1.3  \n",
       "min             970121.75             517197.28              32059.20  \n",
       "max             990515.76             569820.11              34494.08  \n",
       "\n",
       "[2 rows x 23 columns]"
      ]
     },
     "execution_count": 42,
     "metadata": {},
     "output_type": "execute_result"
    }
   ],
   "source": [
    "df_HGII_1.agg(['min', 'max']) "
   ]
  },
  {
   "cell_type": "code",
   "execution_count": 43,
   "id": "0e514ca7",
   "metadata": {},
   "outputs": [
    {
     "data": {
      "text/plain": [
       "1425"
      ]
     },
     "execution_count": 43,
     "metadata": {},
     "output_type": "execute_result"
    }
   ],
   "source": [
    "df_HGII_1.isnull().sum().sum()"
   ]
  },
  {
   "cell_type": "code",
   "execution_count": 44,
   "id": "7e73f319",
   "metadata": {},
   "outputs": [],
   "source": [
    "\n",
    "df_HGII_2 = df_HGII_2.drop(0, axis = 0) #dropping the first row\n",
    "df_HGII_2 = df_HGII_2.reset_index(drop = True) #resetting the index\n",
    "df_HGII_2 = df_HGII_2.rename({'OBIS Bezeichnung' : 'Time'}, axis = 1) #renaming the column 'OBIS Bezeichnung' as 'time'\n",
    "\n"
   ]
  },
  {
   "cell_type": "code",
   "execution_count": 45,
   "id": "4ccd2d95",
   "metadata": {},
   "outputs": [
    {
     "data": {
      "text/html": [
       "<div>\n",
       "<style scoped>\n",
       "    .dataframe tbody tr th:only-of-type {\n",
       "        vertical-align: middle;\n",
       "    }\n",
       "\n",
       "    .dataframe tbody tr th {\n",
       "        vertical-align: top;\n",
       "    }\n",
       "\n",
       "    .dataframe thead th {\n",
       "        text-align: right;\n",
       "    }\n",
       "</style>\n",
       "<table border=\"1\" class=\"dataframe\">\n",
       "  <thead>\n",
       "    <tr style=\"text-align: right;\">\n",
       "      <th></th>\n",
       "      <th>Time</th>\n",
       "      <th>Wärmeenergie Tarif 1</th>\n",
       "      <th>Durchfluss</th>\n",
       "      <th>Volumen</th>\n",
       "      <th>Vorlauftemperatur</th>\n",
       "      <th>Rücklauftemperatur</th>\n",
       "      <th>Temperaturdifferenz</th>\n",
       "      <th>Wärmeleistung</th>\n",
       "      <th>Wärmeenergie Tarif 1.1</th>\n",
       "      <th>Durchfluss.1</th>\n",
       "      <th>...</th>\n",
       "      <th>Vorlauftemperatur.1</th>\n",
       "      <th>Rücklauftemperatur.1</th>\n",
       "      <th>Temperaturdifferenz.1</th>\n",
       "      <th>Wärmeleistung.1</th>\n",
       "      <th>Volumen Kanal 1</th>\n",
       "      <th>Volumen Kanal 1.1</th>\n",
       "      <th>WV+ Arbeit Tarif 1</th>\n",
       "      <th>WV+ Arbeit Tarif 1.1</th>\n",
       "      <th>WV+ Arbeit Tarif 1.2</th>\n",
       "      <th>WV+ Arbeit Tarif 1.3</th>\n",
       "    </tr>\n",
       "  </thead>\n",
       "  <tbody>\n",
       "    <tr>\n",
       "      <th>min</th>\n",
       "      <td>2022-01-26 00:00:00</td>\n",
       "      <td>329817</td>\n",
       "      <td>-0.059477</td>\n",
       "      <td>6129.5</td>\n",
       "      <td>66.467957</td>\n",
       "      <td>20.274994</td>\n",
       "      <td>10.366943</td>\n",
       "      <td>-3.187634</td>\n",
       "      <td>4581450</td>\n",
       "      <td>0.000</td>\n",
       "      <td>...</td>\n",
       "      <td>4.9</td>\n",
       "      <td>4.8</td>\n",
       "      <td>0.00</td>\n",
       "      <td>0.000</td>\n",
       "      <td>7810.039</td>\n",
       "      <td>135.548</td>\n",
       "      <td>220391.7913</td>\n",
       "      <td>0.07</td>\n",
       "      <td>569646.48</td>\n",
       "      <td>34489.82</td>\n",
       "    </tr>\n",
       "    <tr>\n",
       "      <th>max</th>\n",
       "      <td>2022-07-19 02:30:00</td>\n",
       "      <td>569850</td>\n",
       "      <td>12.025577</td>\n",
       "      <td>10886.7</td>\n",
       "      <td>133.214844</td>\n",
       "      <td>74.831970</td>\n",
       "      <td>79.130463</td>\n",
       "      <td>417.506313</td>\n",
       "      <td>4592958</td>\n",
       "      <td>50.555</td>\n",
       "      <td>...</td>\n",
       "      <td>26.2</td>\n",
       "      <td>28.1</td>\n",
       "      <td>18.09</td>\n",
       "      <td>189.934</td>\n",
       "      <td>8335.290</td>\n",
       "      <td>141.563</td>\n",
       "      <td>351082.1834</td>\n",
       "      <td>999999.16</td>\n",
       "      <td>634032.11</td>\n",
       "      <td>37740.92</td>\n",
       "    </tr>\n",
       "  </tbody>\n",
       "</table>\n",
       "<p>2 rows × 21 columns</p>\n",
       "</div>"
      ],
      "text/plain": [
       "                   Time  Wärmeenergie Tarif 1  Durchfluss  Volumen  \\\n",
       "min 2022-01-26 00:00:00                329817   -0.059477   6129.5   \n",
       "max 2022-07-19 02:30:00                569850   12.025577  10886.7   \n",
       "\n",
       "     Vorlauftemperatur  Rücklauftemperatur  Temperaturdifferenz  \\\n",
       "min          66.467957           20.274994            10.366943   \n",
       "max         133.214844           74.831970            79.130463   \n",
       "\n",
       "     Wärmeleistung  Wärmeenergie Tarif 1.1  Durchfluss.1  ...  \\\n",
       "min      -3.187634                 4581450         0.000  ...   \n",
       "max     417.506313                 4592958        50.555  ...   \n",
       "\n",
       "     Vorlauftemperatur.1  Rücklauftemperatur.1  Temperaturdifferenz.1  \\\n",
       "min                  4.9                   4.8                   0.00   \n",
       "max                 26.2                  28.1                  18.09   \n",
       "\n",
       "     Wärmeleistung.1  Volumen Kanal 1  Volumen Kanal 1.1  WV+ Arbeit Tarif 1  \\\n",
       "min            0.000         7810.039            135.548         220391.7913   \n",
       "max          189.934         8335.290            141.563         351082.1834   \n",
       "\n",
       "     WV+ Arbeit Tarif 1.1  WV+ Arbeit Tarif 1.2  WV+ Arbeit Tarif 1.3  \n",
       "min                  0.07             569646.48              34489.82  \n",
       "max             999999.16             634032.11              37740.92  \n",
       "\n",
       "[2 rows x 21 columns]"
      ]
     },
     "execution_count": 45,
     "metadata": {},
     "output_type": "execute_result"
    }
   ],
   "source": [
    "df_HGII_2.agg(['min', 'max']) "
   ]
  },
  {
   "cell_type": "code",
   "execution_count": 46,
   "id": "b918cfea",
   "metadata": {},
   "outputs": [
    {
     "data": {
      "text/plain": [
       "87"
      ]
     },
     "execution_count": 46,
     "metadata": {},
     "output_type": "execute_result"
    }
   ],
   "source": [
    "df_HGII_2.isnull().sum().sum()"
   ]
  },
  {
   "cell_type": "code",
   "execution_count": 47,
   "id": "7a7305a2",
   "metadata": {},
   "outputs": [],
   "source": [
    "\n",
    "df_OH12_1 = df_OH12_1.drop(0, axis = 0) #dropping the first row\n",
    "df_OH12_1 = df_OH12_1.reset_index(drop = True) #resetting the index\n",
    "df_OH12_1 = df_OH12_1.rename({'OBIS Bezeichnung' : 'Time'}, axis = 1) #renaming the column 'OBIS Bezeichnung' as 'time'\n"
   ]
  },
  {
   "cell_type": "code",
   "execution_count": 48,
   "id": "2cdf6077",
   "metadata": {},
   "outputs": [
    {
     "data": {
      "text/html": [
       "<div>\n",
       "<style scoped>\n",
       "    .dataframe tbody tr th:only-of-type {\n",
       "        vertical-align: middle;\n",
       "    }\n",
       "\n",
       "    .dataframe tbody tr th {\n",
       "        vertical-align: top;\n",
       "    }\n",
       "\n",
       "    .dataframe thead th {\n",
       "        text-align: right;\n",
       "    }\n",
       "</style>\n",
       "<table border=\"1\" class=\"dataframe\">\n",
       "  <thead>\n",
       "    <tr style=\"text-align: right;\">\n",
       "      <th></th>\n",
       "      <th>Time</th>\n",
       "      <th>Betriebsstunden</th>\n",
       "      <th>Fehlerstunden</th>\n",
       "      <th>Wärmeenergie total</th>\n",
       "      <th>Durchfluss</th>\n",
       "      <th>Volumen</th>\n",
       "      <th>Vorlauftemperatur</th>\n",
       "      <th>Rücklauftemperatur</th>\n",
       "      <th>Temperaturdifferenz</th>\n",
       "      <th>Wärmeleistung</th>\n",
       "      <th>...</th>\n",
       "      <th>Temperaturdifferenz.1</th>\n",
       "      <th>Wärmeleistung.1</th>\n",
       "      <th>Volumen Kanal 1</th>\n",
       "      <th>Fehler Flags</th>\n",
       "      <th>WV+ Arbeit Tarif 1</th>\n",
       "      <th>P Summe</th>\n",
       "      <th>WV+ Arbeit tariflos</th>\n",
       "      <th>WV+ Arbeit Tarif 1.1</th>\n",
       "      <th>WV+ Arbeit Tarif 2</th>\n",
       "      <th>WV+ Arbeit Tarif 1.2</th>\n",
       "    </tr>\n",
       "  </thead>\n",
       "  <tbody>\n",
       "    <tr>\n",
       "      <th>min</th>\n",
       "      <td>2020-10-28 12:45:00</td>\n",
       "      <td>53545</td>\n",
       "      <td>2</td>\n",
       "      <td>1528696</td>\n",
       "      <td>0.000000</td>\n",
       "      <td>39871.9</td>\n",
       "      <td>16.611664</td>\n",
       "      <td>21.089966</td>\n",
       "      <td>-19.151917</td>\n",
       "      <td>-10.015334</td>\n",
       "      <td>...</td>\n",
       "      <td>0.533539</td>\n",
       "      <td>0.00000</td>\n",
       "      <td>9.94</td>\n",
       "      <td>0</td>\n",
       "      <td>1.027295e+04</td>\n",
       "      <td>1.361869</td>\n",
       "      <td>138822.5121</td>\n",
       "      <td>138822.5121</td>\n",
       "      <td>0</td>\n",
       "      <td>2860.5086</td>\n",
       "    </tr>\n",
       "    <tr>\n",
       "      <th>max</th>\n",
       "      <td>2022-01-26 05:15:00</td>\n",
       "      <td>64459</td>\n",
       "      <td>8</td>\n",
       "      <td>1964837</td>\n",
       "      <td>8.908233</td>\n",
       "      <td>52914.9</td>\n",
       "      <td>131.085785</td>\n",
       "      <td>85.609436</td>\n",
       "      <td>64.916931</td>\n",
       "      <td>444.877469</td>\n",
       "      <td>...</td>\n",
       "      <td>13.391571</td>\n",
       "      <td>494.56775</td>\n",
       "      <td>9.94</td>\n",
       "      <td>0</td>\n",
       "      <td>1.360425e+07</td>\n",
       "      <td>8.242883</td>\n",
       "      <td>138977.0036</td>\n",
       "      <td>161944.2611</td>\n",
       "      <td>0</td>\n",
       "      <td>12912.0315</td>\n",
       "    </tr>\n",
       "  </tbody>\n",
       "</table>\n",
       "<p>2 rows × 27 columns</p>\n",
       "</div>"
      ],
      "text/plain": [
       "                   Time  Betriebsstunden  Fehlerstunden  Wärmeenergie total  \\\n",
       "min 2020-10-28 12:45:00            53545              2             1528696   \n",
       "max 2022-01-26 05:15:00            64459              8             1964837   \n",
       "\n",
       "     Durchfluss  Volumen  Vorlauftemperatur  Rücklauftemperatur  \\\n",
       "min    0.000000  39871.9          16.611664           21.089966   \n",
       "max    8.908233  52914.9         131.085785           85.609436   \n",
       "\n",
       "     Temperaturdifferenz  Wärmeleistung  ...  Temperaturdifferenz.1  \\\n",
       "min           -19.151917     -10.015334  ...               0.533539   \n",
       "max            64.916931     444.877469  ...              13.391571   \n",
       "\n",
       "     Wärmeleistung.1  Volumen Kanal 1  Fehler Flags  WV+ Arbeit Tarif 1  \\\n",
       "min          0.00000             9.94             0        1.027295e+04   \n",
       "max        494.56775             9.94             0        1.360425e+07   \n",
       "\n",
       "      P Summe  WV+ Arbeit tariflos  WV+ Arbeit Tarif 1.1  WV+ Arbeit Tarif 2  \\\n",
       "min  1.361869          138822.5121           138822.5121                   0   \n",
       "max  8.242883          138977.0036           161944.2611                   0   \n",
       "\n",
       "     WV+ Arbeit Tarif 1.2  \n",
       "min             2860.5086  \n",
       "max            12912.0315  \n",
       "\n",
       "[2 rows x 27 columns]"
      ]
     },
     "execution_count": 48,
     "metadata": {},
     "output_type": "execute_result"
    }
   ],
   "source": [
    "df_OH12_1.agg(['min', 'max']) "
   ]
  },
  {
   "cell_type": "code",
   "execution_count": 49,
   "id": "dd4ee70c",
   "metadata": {},
   "outputs": [
    {
     "data": {
      "text/plain": [
       "275837"
      ]
     },
     "execution_count": 49,
     "metadata": {},
     "output_type": "execute_result"
    }
   ],
   "source": [
    "df_OH12_1.isnull().sum().sum()"
   ]
  },
  {
   "cell_type": "code",
   "execution_count": 50,
   "id": "a4504ef1",
   "metadata": {},
   "outputs": [],
   "source": [
    "\n",
    "df_OH12_2 = df_OH12_2.drop(0, axis = 0) #dropping the first row\n",
    "df_OH12_2 = df_OH12_2.reset_index(drop = True) #resetting the index\n",
    "df_OH12_2 = df_OH12_2.rename({'OBIS Bezeichnung' : 'Time'}, axis = 1) #renaming the column 'OBIS Bezeichnung' as 'time'\n"
   ]
  },
  {
   "cell_type": "code",
   "execution_count": 51,
   "id": "e9af0aa9",
   "metadata": {},
   "outputs": [
    {
     "data": {
      "text/html": [
       "<div>\n",
       "<style scoped>\n",
       "    .dataframe tbody tr th:only-of-type {\n",
       "        vertical-align: middle;\n",
       "    }\n",
       "\n",
       "    .dataframe tbody tr th {\n",
       "        vertical-align: top;\n",
       "    }\n",
       "\n",
       "    .dataframe thead th {\n",
       "        text-align: right;\n",
       "    }\n",
       "</style>\n",
       "<table border=\"1\" class=\"dataframe\">\n",
       "  <thead>\n",
       "    <tr style=\"text-align: right;\">\n",
       "      <th></th>\n",
       "      <th>Time</th>\n",
       "      <th>Betriebsstunden</th>\n",
       "      <th>Fehlerstunden</th>\n",
       "      <th>Wärmeenergie total</th>\n",
       "      <th>Durchfluss</th>\n",
       "      <th>Volumen</th>\n",
       "      <th>Vorlauftemperatur</th>\n",
       "      <th>Rücklauftemperatur</th>\n",
       "      <th>Temperaturdifferenz</th>\n",
       "      <th>Wärmeleistung</th>\n",
       "      <th>Wärmeenergie total.1</th>\n",
       "      <th>Durchfluss.1</th>\n",
       "      <th>Volumen.1</th>\n",
       "      <th>Vorlauftemperatur.1</th>\n",
       "      <th>Rücklauftemperatur.1</th>\n",
       "      <th>Wärmeleistung.1</th>\n",
       "      <th>Volumen Kanal 1</th>\n",
       "      <th>WV+ Arbeit Tarif 1</th>\n",
       "      <th>WV+ Arbeit Tarif 1.1</th>\n",
       "      <th>WV+ Arbeit Tarif 1.2</th>\n",
       "    </tr>\n",
       "  </thead>\n",
       "  <tbody>\n",
       "    <tr>\n",
       "      <th>min</th>\n",
       "      <td>2022-01-26 00:00:00</td>\n",
       "      <td>64453</td>\n",
       "      <td>8</td>\n",
       "      <td>1964186</td>\n",
       "      <td>0.000000</td>\n",
       "      <td>52894.0</td>\n",
       "      <td>67.426422</td>\n",
       "      <td>50.174316</td>\n",
       "      <td>0.821106</td>\n",
       "      <td>0.000000</td>\n",
       "      <td>9623483</td>\n",
       "      <td>0.000000</td>\n",
       "      <td>NaN</td>\n",
       "      <td>10.710510</td>\n",
       "      <td>4.987228</td>\n",
       "      <td>0.000000</td>\n",
       "      <td>9.94</td>\n",
       "      <td>13602589</td>\n",
       "      <td>161937.5071</td>\n",
       "      <td>12912.0315</td>\n",
       "    </tr>\n",
       "    <tr>\n",
       "      <th>max</th>\n",
       "      <td>2022-05-25 19:00:00</td>\n",
       "      <td>67328</td>\n",
       "      <td>8</td>\n",
       "      <td>2071668</td>\n",
       "      <td>8.988428</td>\n",
       "      <td>56268.9</td>\n",
       "      <td>129.448792</td>\n",
       "      <td>85.733337</td>\n",
       "      <td>63.876648</td>\n",
       "      <td>375.568531</td>\n",
       "      <td>10378272</td>\n",
       "      <td>70.305594</td>\n",
       "      <td>NaN</td>\n",
       "      <td>18.194641</td>\n",
       "      <td>13.248383</td>\n",
       "      <td>434.390094</td>\n",
       "      <td>9.94</td>\n",
       "      <td>14520615</td>\n",
       "      <td>167258.7241</td>\n",
       "      <td>15663.6586</td>\n",
       "    </tr>\n",
       "  </tbody>\n",
       "</table>\n",
       "</div>"
      ],
      "text/plain": [
       "                   Time  Betriebsstunden  Fehlerstunden  Wärmeenergie total  \\\n",
       "min 2022-01-26 00:00:00            64453              8             1964186   \n",
       "max 2022-05-25 19:00:00            67328              8             2071668   \n",
       "\n",
       "     Durchfluss  Volumen  Vorlauftemperatur  Rücklauftemperatur  \\\n",
       "min    0.000000  52894.0          67.426422           50.174316   \n",
       "max    8.988428  56268.9         129.448792           85.733337   \n",
       "\n",
       "     Temperaturdifferenz  Wärmeleistung  Wärmeenergie total.1  Durchfluss.1  \\\n",
       "min             0.821106       0.000000               9623483      0.000000   \n",
       "max            63.876648     375.568531              10378272     70.305594   \n",
       "\n",
       "     Volumen.1  Vorlauftemperatur.1  Rücklauftemperatur.1  Wärmeleistung.1  \\\n",
       "min        NaN            10.710510              4.987228         0.000000   \n",
       "max        NaN            18.194641             13.248383       434.390094   \n",
       "\n",
       "     Volumen Kanal 1  WV+ Arbeit Tarif 1  WV+ Arbeit Tarif 1.1  \\\n",
       "min             9.94            13602589           161937.5071   \n",
       "max             9.94            14520615           167258.7241   \n",
       "\n",
       "     WV+ Arbeit Tarif 1.2  \n",
       "min            12912.0315  \n",
       "max            15663.6586  "
      ]
     },
     "execution_count": 51,
     "metadata": {},
     "output_type": "execute_result"
    }
   ],
   "source": [
    "df_OH12_2.agg(['min', 'max']) "
   ]
  },
  {
   "cell_type": "code",
   "execution_count": 52,
   "id": "ab44229c",
   "metadata": {},
   "outputs": [
    {
     "data": {
      "text/plain": [
       "11848"
      ]
     },
     "execution_count": 52,
     "metadata": {},
     "output_type": "execute_result"
    }
   ],
   "source": [
    "df_OH12_2.isnull().sum().sum()"
   ]
  },
  {
   "cell_type": "code",
   "execution_count": 53,
   "id": "74a150b4",
   "metadata": {},
   "outputs": [],
   "source": [
    "\n",
    "df_OH14_1 = df_OH14_1.drop(0, axis = 0) #dropping the first row\n",
    "df_OH14_1 = df_OH14_1.reset_index(drop = True) #resetting the index\n",
    "df_OH14_1 = df_OH14_1.rename({'OBIS Bezeichnung' : 'Time'}, axis = 1) #renaming the column 'OBIS Bezeichnung' as 'time'\n"
   ]
  },
  {
   "cell_type": "code",
   "execution_count": 54,
   "id": "64586ca1",
   "metadata": {},
   "outputs": [
    {
     "data": {
      "text/html": [
       "<div>\n",
       "<style scoped>\n",
       "    .dataframe tbody tr th:only-of-type {\n",
       "        vertical-align: middle;\n",
       "    }\n",
       "\n",
       "    .dataframe tbody tr th {\n",
       "        vertical-align: top;\n",
       "    }\n",
       "\n",
       "    .dataframe thead th {\n",
       "        text-align: right;\n",
       "    }\n",
       "</style>\n",
       "<table border=\"1\" class=\"dataframe\">\n",
       "  <thead>\n",
       "    <tr style=\"text-align: right;\">\n",
       "      <th></th>\n",
       "      <th>Time</th>\n",
       "      <th>Wärmeenergie Tarif 1</th>\n",
       "      <th>Durchfluss</th>\n",
       "      <th>Volumen</th>\n",
       "      <th>Vorlauftemperatur</th>\n",
       "      <th>Rücklauftemperatur</th>\n",
       "      <th>Temperaturdifferenz</th>\n",
       "      <th>Wärmeleistung</th>\n",
       "      <th>Wärmeenergie Tarif 1.1</th>\n",
       "      <th>Durchfluss.1</th>\n",
       "      <th>Volumen.1</th>\n",
       "      <th>Vorlauftemperatur.1</th>\n",
       "      <th>Rücklauftemperatur.1</th>\n",
       "      <th>Temperaturdifferenz.1</th>\n",
       "      <th>Wärmeleistung.1</th>\n",
       "      <th>Gerätenummer</th>\n",
       "      <th>Volumen Kanal 1</th>\n",
       "      <th>WV+ Arbeit Tarif 1</th>\n",
       "    </tr>\n",
       "  </thead>\n",
       "  <tbody>\n",
       "    <tr>\n",
       "      <th>min</th>\n",
       "      <td>2021-07-06 11:45:00</td>\n",
       "      <td>2066251</td>\n",
       "      <td>0.000</td>\n",
       "      <td>56611.56</td>\n",
       "      <td>27.6</td>\n",
       "      <td>25.6</td>\n",
       "      <td>0.00</td>\n",
       "      <td>0.000</td>\n",
       "      <td>4324851</td>\n",
       "      <td>0.021</td>\n",
       "      <td>716809.024</td>\n",
       "      <td>9.4</td>\n",
       "      <td>5.1</td>\n",
       "      <td>0.00</td>\n",
       "      <td>0.000</td>\n",
       "      <td>20137795</td>\n",
       "      <td>1.261</td>\n",
       "      <td>3945894</td>\n",
       "    </tr>\n",
       "    <tr>\n",
       "      <th>max</th>\n",
       "      <td>2022-01-26 05:15:00</td>\n",
       "      <td>2173799</td>\n",
       "      <td>2.919</td>\n",
       "      <td>59286.53</td>\n",
       "      <td>125.2</td>\n",
       "      <td>88.5</td>\n",
       "      <td>76.23</td>\n",
       "      <td>202.911</td>\n",
       "      <td>4452809</td>\n",
       "      <td>17.068</td>\n",
       "      <td>740497.822</td>\n",
       "      <td>13.9</td>\n",
       "      <td>200.0</td>\n",
       "      <td>7.86</td>\n",
       "      <td>85.599</td>\n",
       "      <td>20137795</td>\n",
       "      <td>307.148</td>\n",
       "      <td>4122541</td>\n",
       "    </tr>\n",
       "  </tbody>\n",
       "</table>\n",
       "</div>"
      ],
      "text/plain": [
       "                   Time  Wärmeenergie Tarif 1  Durchfluss   Volumen  \\\n",
       "min 2021-07-06 11:45:00               2066251       0.000  56611.56   \n",
       "max 2022-01-26 05:15:00               2173799       2.919  59286.53   \n",
       "\n",
       "     Vorlauftemperatur  Rücklauftemperatur  Temperaturdifferenz  \\\n",
       "min               27.6                25.6                 0.00   \n",
       "max              125.2                88.5                76.23   \n",
       "\n",
       "     Wärmeleistung  Wärmeenergie Tarif 1.1  Durchfluss.1   Volumen.1  \\\n",
       "min          0.000                 4324851         0.021  716809.024   \n",
       "max        202.911                 4452809        17.068  740497.822   \n",
       "\n",
       "     Vorlauftemperatur.1  Rücklauftemperatur.1  Temperaturdifferenz.1  \\\n",
       "min                  9.4                   5.1                   0.00   \n",
       "max                 13.9                 200.0                   7.86   \n",
       "\n",
       "     Wärmeleistung.1  Gerätenummer  Volumen Kanal 1  WV+ Arbeit Tarif 1  \n",
       "min            0.000      20137795            1.261             3945894  \n",
       "max           85.599      20137795          307.148             4122541  "
      ]
     },
     "execution_count": 54,
     "metadata": {},
     "output_type": "execute_result"
    }
   ],
   "source": [
    "df_OH14_1.agg(['min', 'max']) "
   ]
  },
  {
   "cell_type": "code",
   "execution_count": 55,
   "id": "b6cdbbd3",
   "metadata": {},
   "outputs": [
    {
     "data": {
      "text/plain": [
       "15361"
      ]
     },
     "execution_count": 55,
     "metadata": {},
     "output_type": "execute_result"
    }
   ],
   "source": [
    "df_OH14_1.isnull().sum().sum()"
   ]
  },
  {
   "cell_type": "code",
   "execution_count": 56,
   "id": "36d47f76",
   "metadata": {},
   "outputs": [],
   "source": [
    "\n",
    "df_OH14_2 = df_OH14_2.drop(0, axis = 0) #dropping the first row\n",
    "df_OH14_2 = df_OH14_2.reset_index(drop = True) #resetting the index\n",
    "df_OH14_2 = df_OH14_2.rename({'OBIS Bezeichnung' : 'Time'}, axis = 1) #renaming the column 'OBIS Bezeichnung' as 'time'\n"
   ]
  },
  {
   "cell_type": "code",
   "execution_count": 57,
   "id": "5b75c049",
   "metadata": {},
   "outputs": [
    {
     "data": {
      "text/html": [
       "<div>\n",
       "<style scoped>\n",
       "    .dataframe tbody tr th:only-of-type {\n",
       "        vertical-align: middle;\n",
       "    }\n",
       "\n",
       "    .dataframe tbody tr th {\n",
       "        vertical-align: top;\n",
       "    }\n",
       "\n",
       "    .dataframe thead th {\n",
       "        text-align: right;\n",
       "    }\n",
       "</style>\n",
       "<table border=\"1\" class=\"dataframe\">\n",
       "  <thead>\n",
       "    <tr style=\"text-align: right;\">\n",
       "      <th></th>\n",
       "      <th>Time</th>\n",
       "      <th>Wärmeenergie Tarif 1</th>\n",
       "      <th>Durchfluss</th>\n",
       "      <th>Volumen</th>\n",
       "      <th>Vorlauftemperatur</th>\n",
       "      <th>Rücklauftemperatur</th>\n",
       "      <th>Temperaturdifferenz</th>\n",
       "      <th>Wärmeleistung</th>\n",
       "      <th>Wärmeenergie Tarif 1.1</th>\n",
       "      <th>Durchfluss.1</th>\n",
       "      <th>Volumen.1</th>\n",
       "      <th>Vorlauftemperatur.1</th>\n",
       "      <th>Rücklauftemperatur.1</th>\n",
       "      <th>Temperaturdifferenz.1</th>\n",
       "      <th>Wärmeleistung.1</th>\n",
       "      <th>Volumen Kanal 1</th>\n",
       "      <th>WV+ Arbeit Tarif 1</th>\n",
       "    </tr>\n",
       "  </thead>\n",
       "  <tbody>\n",
       "    <tr>\n",
       "      <th>min</th>\n",
       "      <td>2022-01-26 00:00:00</td>\n",
       "      <td>2173429</td>\n",
       "      <td>0.022</td>\n",
       "      <td>59280.56</td>\n",
       "      <td>63.2</td>\n",
       "      <td>34.8</td>\n",
       "      <td>4.72</td>\n",
       "      <td>0.574</td>\n",
       "      <td>4452683</td>\n",
       "      <td>0.000</td>\n",
       "      <td>740475.859</td>\n",
       "      <td>9.6</td>\n",
       "      <td>4.9</td>\n",
       "      <td>0.00</td>\n",
       "      <td>0.00</td>\n",
       "      <td>307.147</td>\n",
       "      <td>4122354.0</td>\n",
       "    </tr>\n",
       "    <tr>\n",
       "      <th>max</th>\n",
       "      <td>2022-07-19 02:30:00</td>\n",
       "      <td>2249907</td>\n",
       "      <td>2.703</td>\n",
       "      <td>60999.77</td>\n",
       "      <td>128.6</td>\n",
       "      <td>68.5</td>\n",
       "      <td>79.34</td>\n",
       "      <td>180.908</td>\n",
       "      <td>4558812</td>\n",
       "      <td>22.178</td>\n",
       "      <td>757751.635</td>\n",
       "      <td>14.7</td>\n",
       "      <td>13.7</td>\n",
       "      <td>8.22</td>\n",
       "      <td>83.59</td>\n",
       "      <td>499.988</td>\n",
       "      <td>4274868.0</td>\n",
       "    </tr>\n",
       "  </tbody>\n",
       "</table>\n",
       "</div>"
      ],
      "text/plain": [
       "                   Time  Wärmeenergie Tarif 1  Durchfluss   Volumen  \\\n",
       "min 2022-01-26 00:00:00               2173429       0.022  59280.56   \n",
       "max 2022-07-19 02:30:00               2249907       2.703  60999.77   \n",
       "\n",
       "     Vorlauftemperatur  Rücklauftemperatur  Temperaturdifferenz  \\\n",
       "min               63.2                34.8                 4.72   \n",
       "max              128.6                68.5                79.34   \n",
       "\n",
       "     Wärmeleistung  Wärmeenergie Tarif 1.1  Durchfluss.1   Volumen.1  \\\n",
       "min          0.574                 4452683         0.000  740475.859   \n",
       "max        180.908                 4558812        22.178  757751.635   \n",
       "\n",
       "     Vorlauftemperatur.1  Rücklauftemperatur.1  Temperaturdifferenz.1  \\\n",
       "min                  9.6                   4.9                   0.00   \n",
       "max                 14.7                  13.7                   8.22   \n",
       "\n",
       "     Wärmeleistung.1  Volumen Kanal 1  WV+ Arbeit Tarif 1  \n",
       "min             0.00          307.147           4122354.0  \n",
       "max            83.59          499.988           4274868.0  "
      ]
     },
     "execution_count": 57,
     "metadata": {},
     "output_type": "execute_result"
    }
   ],
   "source": [
    "df_OH14_2.agg(['min', 'max']) "
   ]
  },
  {
   "cell_type": "code",
   "execution_count": 58,
   "id": "885e3bb5",
   "metadata": {},
   "outputs": [
    {
     "data": {
      "text/plain": [
       "0"
      ]
     },
     "execution_count": 58,
     "metadata": {},
     "output_type": "execute_result"
    }
   ],
   "source": [
    "df_OH14_2.isnull().sum().sum()"
   ]
  },
  {
   "cell_type": "code",
   "execution_count": 59,
   "id": "33721431",
   "metadata": {},
   "outputs": [
    {
     "data": {
      "text/plain": [
       "Index(['Time', 'Wärmeenergie Tarif 1', 'Durchfluss', 'Vorlauftemperatur',\n",
       "       'Rücklauftemperatur', 'Wärmeleistung', 'Volumen Kanal 1',\n",
       "       'Volumen Kanal 1.1', 'Fehler Flags', 'WV+ Arbeit Tarif 1',\n",
       "       'Fehler Flags.1', 'WV+ Momentanwert Tariflos', 'WV+ Arbeit Tarif 1.1',\n",
       "       'P Summe', 'WV+ Arbeit tariflos', 'WV+ Arbeit Tarif 1.2',\n",
       "       'WV- Arbeit tariflos', 'WV- Arbeit Tarif 1', 'BV+ Arbeit tariflos',\n",
       "       'BV+ Arbeit Tarif 1', 'BV- Arbeit tariflos', 'BV- Arbeit Tarif 1'],\n",
       "      dtype='object')"
      ]
     },
     "execution_count": 59,
     "metadata": {},
     "output_type": "execute_result"
    }
   ],
   "source": [
    "df_Chemie_1.columns"
   ]
  },
  {
   "cell_type": "code",
   "execution_count": 60,
   "id": "50900150",
   "metadata": {},
   "outputs": [
    {
     "data": {
      "text/plain": [
       "Index(['Time', 'Wärmeenergie Tarif 1', 'Durchfluss', 'Vorlauftemperatur',\n",
       "       'Rücklauftemperatur', 'Wärmeleistung', 'Volumen Kanal 1',\n",
       "       'Volumen Kanal 1.1', 'Gerätenummer', 'Volumen Kanal 1.2',\n",
       "       'WV+ Arbeit Tarif 1', 'WV+ Arbeit Tarif 1.1', 'WV+ Arbeit Tarif 1.2',\n",
       "       'WV- Arbeit Tarif 1'],\n",
       "      dtype='object')"
      ]
     },
     "execution_count": 60,
     "metadata": {},
     "output_type": "execute_result"
    }
   ],
   "source": [
    "df_Chemie_2.columns"
   ]
  },
  {
   "cell_type": "code",
   "execution_count": 61,
   "id": "f818e89a",
   "metadata": {},
   "outputs": [
    {
     "data": {
      "text/plain": [
       "Index(['Time', 'Wärmeenergie Tarif 1', 'Durchfluss', 'Volumen',\n",
       "       'Vorlauftemperatur', 'Rücklauftemperatur', 'Temperaturdifferenz',\n",
       "       'Wärmeleistung', 'Wärmeenergie Tarif 1.1', 'Durchfluss.1', 'Volumen.1',\n",
       "       'Vorlauftemperatur.1', 'Rücklauftemperatur.1', 'Temperaturdifferenz.1',\n",
       "       'Wärmeleistung.1', 'Durchfluss.2', 'Volumen Kanal 1', 'Durchfluss.3',\n",
       "       'Volumen Kanal 1.1', 'P Summe', 'WV+ Arbeit tariflos',\n",
       "       'WV+ Arbeit Tarif 1', 'WV- Arbeit tariflos', 'WV- Arbeit Tarif 1',\n",
       "       'BV+ Arbeit tariflos', 'BV+ Arbeit Tarif 1', 'BV- Arbeit tariflos',\n",
       "       'BV- Arbeit Tarif 1', 'WV- Arbeit tariflos.1', 'WV- Arbeit Tarif 1.1',\n",
       "       'P Summe.1', 'WV+ Arbeit tariflos.1', 'WV+ Arbeit Tarif 1.1',\n",
       "       'WV- Arbeit tariflos.2', 'WV- Arbeit Tarif 1.2',\n",
       "       'BV+ Arbeit tariflos.1', 'BV+ Arbeit Tarif 1.1',\n",
       "       'BV- Arbeit tariflos.1', 'BV- Arbeit Tarif 1.1', 'P Summe.2',\n",
       "       'WV+ Arbeit tariflos.2', 'WV+ Arbeit Tarif 1.2',\n",
       "       'WV+ Arbeit tariflos.3', 'WV+ Arbeit Tarif 1.3',\n",
       "       'WV- Arbeit tariflos.3', 'WV- Arbeit Tarif 1.3'],\n",
       "      dtype='object')"
      ]
     },
     "execution_count": 61,
     "metadata": {},
     "output_type": "execute_result"
    }
   ],
   "source": [
    "df_Großtagespflege_1.columns"
   ]
  },
  {
   "cell_type": "code",
   "execution_count": 62,
   "id": "1985a0c8",
   "metadata": {},
   "outputs": [
    {
     "data": {
      "text/plain": [
       "Index(['Time', 'Wärmeenergie Tarif 1', 'Durchfluss', 'Volumen',\n",
       "       'Vorlauftemperatur', 'Rücklauftemperatur', 'Temperaturdifferenz',\n",
       "       'Wärmeleistung', 'Wärmeenergie Tarif 1.1', 'Durchfluss.1', 'Volumen.1',\n",
       "       'Vorlauftemperatur.1', 'Rücklauftemperatur.1', 'Temperaturdifferenz.1',\n",
       "       'Wärmeleistung.1', 'Durchfluss.2', 'Volumen Kanal 1', 'Durchfluss.3',\n",
       "       'Volumen Kanal 1.1', 'WV+ Arbeit tariflos', 'WV+ Arbeit Tarif 1',\n",
       "       'WV+ Arbeit tariflos.1', 'WV+ Arbeit Tarif 1.1',\n",
       "       'WV+ Arbeit tariflos.2', 'WV+ Arbeit Tarif 1.2'],\n",
       "      dtype='object')"
      ]
     },
     "execution_count": 62,
     "metadata": {},
     "output_type": "execute_result"
    }
   ],
   "source": [
    "df_Großtagespflege_2.columns"
   ]
  },
  {
   "cell_type": "code",
   "execution_count": 63,
   "id": "27b64edf",
   "metadata": {},
   "outputs": [
    {
     "data": {
      "text/plain": [
       "Index(['Time', 'Wärmeenergie Tarif 1', 'Durchfluss', 'Volumen',\n",
       "       'Vorlauftemperatur', 'Rücklauftemperatur', 'Temperaturdifferenz',\n",
       "       'Wärmeleistung', 'Wärmeenergie Tarif 1.1', 'Durchfluss.1', 'Volumen.1',\n",
       "       'Vorlauftemperatur.1', 'Rücklauftemperatur.1', 'Temperaturdifferenz.1',\n",
       "       'Wärmeleistung.1', 'Volumen Kanal 1', 'Volumen Kanal 1.1', 'P Summe',\n",
       "       'WV+ Arbeit Tarif 1', 'WV- Arbeit Tarif 1', 'WV+ Arbeit Tarif 1.1',\n",
       "       'WV+ Arbeit Tarif 1.2', 'WV+ Arbeit Tarif 1.3'],\n",
       "      dtype='object')"
      ]
     },
     "execution_count": 63,
     "metadata": {},
     "output_type": "execute_result"
    }
   ],
   "source": [
    "df_HGII_1.columns"
   ]
  },
  {
   "cell_type": "code",
   "execution_count": 64,
   "id": "9814eb81",
   "metadata": {},
   "outputs": [
    {
     "data": {
      "text/plain": [
       "Index(['Time', 'Wärmeenergie Tarif 1', 'Durchfluss', 'Volumen',\n",
       "       'Vorlauftemperatur', 'Rücklauftemperatur', 'Temperaturdifferenz',\n",
       "       'Wärmeleistung', 'Wärmeenergie Tarif 1.1', 'Durchfluss.1', 'Volumen.1',\n",
       "       'Vorlauftemperatur.1', 'Rücklauftemperatur.1', 'Temperaturdifferenz.1',\n",
       "       'Wärmeleistung.1', 'Volumen Kanal 1', 'Volumen Kanal 1.1',\n",
       "       'WV+ Arbeit Tarif 1', 'WV+ Arbeit Tarif 1.1', 'WV+ Arbeit Tarif 1.2',\n",
       "       'WV+ Arbeit Tarif 1.3'],\n",
       "      dtype='object')"
      ]
     },
     "execution_count": 64,
     "metadata": {},
     "output_type": "execute_result"
    }
   ],
   "source": [
    "df_HGII_2.columns"
   ]
  },
  {
   "cell_type": "code",
   "execution_count": 65,
   "id": "0b25b5f5",
   "metadata": {},
   "outputs": [
    {
     "data": {
      "text/plain": [
       "Index(['Time', 'Betriebsstunden', 'Fehlerstunden', 'Wärmeenergie total',\n",
       "       'Durchfluss', 'Volumen', 'Vorlauftemperatur', 'Rücklauftemperatur',\n",
       "       'Temperaturdifferenz', 'Wärmeleistung', 'Betriebsstunden.1',\n",
       "       'Fehlerstunden.1', 'Wärmeenergie total.1', 'Durchfluss.1', 'Volumen.1',\n",
       "       'Vorlauftemperatur.1', 'Rücklauftemperatur.1', 'Temperaturdifferenz.1',\n",
       "       'Wärmeleistung.1', 'Volumen Kanal 1', 'Fehler Flags',\n",
       "       'WV+ Arbeit Tarif 1', 'P Summe', 'WV+ Arbeit tariflos',\n",
       "       'WV+ Arbeit Tarif 1.1', 'WV+ Arbeit Tarif 2', 'WV+ Arbeit Tarif 1.2'],\n",
       "      dtype='object')"
      ]
     },
     "execution_count": 65,
     "metadata": {},
     "output_type": "execute_result"
    }
   ],
   "source": [
    "df_OH12_1.columns"
   ]
  },
  {
   "cell_type": "code",
   "execution_count": 66,
   "id": "d40fc97b",
   "metadata": {},
   "outputs": [
    {
     "data": {
      "text/plain": [
       "Index(['Time', 'Betriebsstunden', 'Fehlerstunden', 'Wärmeenergie total',\n",
       "       'Durchfluss', 'Volumen', 'Vorlauftemperatur', 'Rücklauftemperatur',\n",
       "       'Temperaturdifferenz', 'Wärmeleistung', 'Wärmeenergie total.1',\n",
       "       'Durchfluss.1', 'Volumen.1', 'Vorlauftemperatur.1',\n",
       "       'Rücklauftemperatur.1', 'Wärmeleistung.1', 'Volumen Kanal 1',\n",
       "       'WV+ Arbeit Tarif 1', 'WV+ Arbeit Tarif 1.1', 'WV+ Arbeit Tarif 1.2'],\n",
       "      dtype='object')"
      ]
     },
     "execution_count": 66,
     "metadata": {},
     "output_type": "execute_result"
    }
   ],
   "source": [
    "df_OH12_2.columns"
   ]
  },
  {
   "cell_type": "code",
   "execution_count": 68,
   "id": "8e43e614",
   "metadata": {},
   "outputs": [
    {
     "data": {
      "text/plain": [
       "Index(['Time', 'Wärmeenergie Tarif 1', 'Durchfluss', 'Volumen',\n",
       "       'Vorlauftemperatur', 'Rücklauftemperatur', 'Temperaturdifferenz',\n",
       "       'Wärmeleistung', 'Wärmeenergie Tarif 1.1', 'Durchfluss.1', 'Volumen.1',\n",
       "       'Vorlauftemperatur.1', 'Rücklauftemperatur.1', 'Temperaturdifferenz.1',\n",
       "       'Wärmeleistung.1', 'Gerätenummer', 'Volumen Kanal 1',\n",
       "       'WV+ Arbeit Tarif 1'],\n",
       "      dtype='object')"
      ]
     },
     "execution_count": 68,
     "metadata": {},
     "output_type": "execute_result"
    }
   ],
   "source": [
    "df_OH14_1.columns"
   ]
  },
  {
   "cell_type": "code",
   "execution_count": 70,
   "id": "7f03d195",
   "metadata": {},
   "outputs": [
    {
     "data": {
      "text/plain": [
       "Index(['Time', 'Wärmeenergie Tarif 1', 'Durchfluss', 'Volumen',\n",
       "       'Vorlauftemperatur', 'Rücklauftemperatur', 'Temperaturdifferenz',\n",
       "       'Wärmeleistung', 'Wärmeenergie Tarif 1.1', 'Durchfluss.1', 'Volumen.1',\n",
       "       'Vorlauftemperatur.1', 'Rücklauftemperatur.1', 'Temperaturdifferenz.1',\n",
       "       'Wärmeleistung.1', 'Volumen Kanal 1', 'WV+ Arbeit Tarif 1'],\n",
       "      dtype='object')"
      ]
     },
     "execution_count": 70,
     "metadata": {},
     "output_type": "execute_result"
    }
   ],
   "source": [
    "df_OH14_2.columns"
   ]
  },
  {
   "cell_type": "code",
   "execution_count": null,
   "id": "96dcf9d2",
   "metadata": {},
   "outputs": [],
   "source": []
  },
  {
   "cell_type": "code",
   "execution_count": null,
   "id": "b283f9c2",
   "metadata": {},
   "outputs": [],
   "source": []
  }
 ],
 "metadata": {
  "kernelspec": {
   "display_name": "Python 3 (ipykernel)",
   "language": "python",
   "name": "python3"
  },
  "language_info": {
   "codemirror_mode": {
    "name": "ipython",
    "version": 3
   },
   "file_extension": ".py",
   "mimetype": "text/x-python",
   "name": "python",
   "nbconvert_exporter": "python",
   "pygments_lexer": "ipython3",
   "version": "3.9.12"
  }
 },
 "nbformat": 4,
 "nbformat_minor": 5
}
